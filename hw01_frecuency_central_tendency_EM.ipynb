{
 "cells": [
  {
   "cell_type": "markdown",
   "metadata": {
    "id": "AelhvBEmHcfC"
   },
   "source": [
    "About the homework: In some tasks, in addition to writing code, answers to questions and conclusions are required (there are special Markdown cells marked with **Answer**).\n",
    "\n",
    "The ability to analyze the results of experiments is an important skill. Therefore, answers carry more weight than the code: the code accounts for 30% of the task grade, while answers to questions account for 70%."
   ]
  },
  {
   "cell_type": "code",
   "execution_count": 3,
   "metadata": {
    "tags": []
   },
   "outputs": [
    {
     "name": "stdout",
     "output_type": "stream",
     "text": [
      "Traceback (most recent call last):\n",
      "  File \"<frozen runpy>\", line 189, in _run_module_as_main\n",
      "  File \"<frozen runpy>\", line 148, in _get_module_details\n",
      "  File \"<frozen runpy>\", line 112, in _get_module_details\n",
      "  File \"/Users/admin/opt/anaconda3/envs/deepfake/lib/python3.11/site-packages/pip/__init__.py\", line 21, in <module>\n",
      "    from pip._vendor.requests.packages.urllib3.exceptions import DependencyWarning\n",
      "  File \"/Users/admin/opt/anaconda3/envs/deepfake/lib/python3.11/site-packages/pip/_vendor/requests/__init__.py\", line 65, in <module>\n",
      "    from . import utils\n",
      "  File \"/Users/admin/opt/anaconda3/envs/deepfake/lib/python3.11/site-packages/pip/_vendor/requests/utils.py\", line 27, in <module>\n",
      "    from .cookies import RequestsCookieJar, cookiejar_from_dict\n",
      "  File \"/Users/admin/opt/anaconda3/envs/deepfake/lib/python3.11/site-packages/pip/_vendor/requests/cookies.py\", line 172, in <module>\n",
      "    class RequestsCookieJar(cookielib.CookieJar, collections.MutableMapping):\n",
      "                                                 ^^^^^^^^^^^^^^^^^^^^^^^^^^\n",
      "AttributeError: module 'collections' has no attribute 'MutableMapping'\n",
      "Note: you may need to restart the kernel to use updated packages.\n"
     ]
    }
   ],
   "source": [
    "pip install --upgrade pandas matplotlib"
   ]
  },
  {
   "cell_type": "code",
   "execution_count": 4,
   "metadata": {
    "id": "nzHz8x37jri1",
    "tags": []
   },
   "outputs": [],
   "source": [
    "import numpy as np\n",
    "import pandas as pd\n",
    "import matplotlib.pyplot as plt\n",
    "import seaborn as sns"
   ]
  },
  {
   "cell_type": "markdown",
   "metadata": {
    "id": "1mAIjDWLjd_6"
   },
   "source": [
    "Download the [dataset about Pokemons](https://www.kaggle.com/datasets/abcsds/pokemon)"
   ]
  },
  {
   "cell_type": "code",
   "execution_count": 5,
   "metadata": {
    "id": "4KSPk8weisct",
    "tags": []
   },
   "outputs": [
    {
     "data": {
      "text/html": [
       "<div>\n",
       "<style scoped>\n",
       "    .dataframe tbody tr th:only-of-type {\n",
       "        vertical-align: middle;\n",
       "    }\n",
       "\n",
       "    .dataframe tbody tr th {\n",
       "        vertical-align: top;\n",
       "    }\n",
       "\n",
       "    .dataframe thead th {\n",
       "        text-align: right;\n",
       "    }\n",
       "</style>\n",
       "<table border=\"1\" class=\"dataframe\">\n",
       "  <thead>\n",
       "    <tr style=\"text-align: right;\">\n",
       "      <th></th>\n",
       "      <th>#</th>\n",
       "      <th>Name</th>\n",
       "      <th>Type 1</th>\n",
       "      <th>Type 2</th>\n",
       "      <th>Total</th>\n",
       "      <th>HP</th>\n",
       "      <th>Attack</th>\n",
       "      <th>Defense</th>\n",
       "      <th>Sp. Atk</th>\n",
       "      <th>Sp. Def</th>\n",
       "      <th>Speed</th>\n",
       "      <th>Generation</th>\n",
       "      <th>Legendary</th>\n",
       "    </tr>\n",
       "  </thead>\n",
       "  <tbody>\n",
       "    <tr>\n",
       "      <th>560</th>\n",
       "      <td>501</td>\n",
       "      <td>Oshawott</td>\n",
       "      <td>Water</td>\n",
       "      <td>NaN</td>\n",
       "      <td>308</td>\n",
       "      <td>55</td>\n",
       "      <td>55</td>\n",
       "      <td>45</td>\n",
       "      <td>63</td>\n",
       "      <td>45</td>\n",
       "      <td>45</td>\n",
       "      <td>5</td>\n",
       "      <td>False</td>\n",
       "    </tr>\n",
       "    <tr>\n",
       "      <th>334</th>\n",
       "      <td>307</td>\n",
       "      <td>Meditite</td>\n",
       "      <td>Fighting</td>\n",
       "      <td>Psychic</td>\n",
       "      <td>280</td>\n",
       "      <td>30</td>\n",
       "      <td>40</td>\n",
       "      <td>55</td>\n",
       "      <td>40</td>\n",
       "      <td>55</td>\n",
       "      <td>60</td>\n",
       "      <td>3</td>\n",
       "      <td>False</td>\n",
       "    </tr>\n",
       "    <tr>\n",
       "      <th>726</th>\n",
       "      <td>658</td>\n",
       "      <td>Greninja</td>\n",
       "      <td>Water</td>\n",
       "      <td>Dark</td>\n",
       "      <td>530</td>\n",
       "      <td>72</td>\n",
       "      <td>95</td>\n",
       "      <td>67</td>\n",
       "      <td>103</td>\n",
       "      <td>71</td>\n",
       "      <td>122</td>\n",
       "      <td>6</td>\n",
       "      <td>False</td>\n",
       "    </tr>\n",
       "    <tr>\n",
       "      <th>361</th>\n",
       "      <td>330</td>\n",
       "      <td>Flygon</td>\n",
       "      <td>Ground</td>\n",
       "      <td>Dragon</td>\n",
       "      <td>520</td>\n",
       "      <td>80</td>\n",
       "      <td>100</td>\n",
       "      <td>80</td>\n",
       "      <td>80</td>\n",
       "      <td>80</td>\n",
       "      <td>100</td>\n",
       "      <td>3</td>\n",
       "      <td>False</td>\n",
       "    </tr>\n",
       "  </tbody>\n",
       "</table>\n",
       "</div>"
      ],
      "text/plain": [
       "       #      Name    Type 1   Type 2  Total  HP  Attack  Defense  Sp. Atk  \\\n",
       "560  501  Oshawott     Water      NaN    308  55      55       45       63   \n",
       "334  307  Meditite  Fighting  Psychic    280  30      40       55       40   \n",
       "726  658  Greninja     Water     Dark    530  72      95       67      103   \n",
       "361  330    Flygon    Ground   Dragon    520  80     100       80       80   \n",
       "\n",
       "     Sp. Def  Speed  Generation  Legendary  \n",
       "560       45     45           5      False  \n",
       "334       55     60           3      False  \n",
       "726       71    122           6      False  \n",
       "361       80    100           3      False  "
      ]
     },
     "execution_count": 5,
     "metadata": {},
     "output_type": "execute_result"
    }
   ],
   "source": [
    "df = pd.read_csv('Pokemon.csv')\n",
    "df.sample(4)"
   ]
  },
  {
   "cell_type": "markdown",
   "metadata": {
    "id": "lvHas5wFkBLk"
   },
   "source": [
    "# Task 1 (1 point)"
   ]
  },
  {
   "cell_type": "markdown",
   "metadata": {
    "id": "Kc7y6m_ZkEx5"
   },
   "source": [
    "Investigate  the type of every feature. Is it numerical or cetegorical (nominal or ordinal)? Explain, why.\n",
    "\n",
    "You may need to check the type of the column or consult the description of the data on Kaggle.com"
   ]
  },
  {
   "cell_type": "code",
   "execution_count": 6,
   "metadata": {
    "id": "9L_0QA1Qlh_r"
   },
   "outputs": [
    {
     "data": {
      "text/plain": [
       "#              int64\n",
       "Name          object\n",
       "Type 1        object\n",
       "Type 2        object\n",
       "Total          int64\n",
       "HP             int64\n",
       "Attack         int64\n",
       "Defense        int64\n",
       "Sp. Atk        int64\n",
       "Sp. Def        int64\n",
       "Speed          int64\n",
       "Generation     int64\n",
       "Legendary       bool\n",
       "dtype: object"
      ]
     },
     "execution_count": 6,
     "metadata": {},
     "output_type": "execute_result"
    }
   ],
   "source": [
    "df.dtypes"
   ]
  },
  {
   "cell_type": "markdown",
   "metadata": {
    "id": "Os0HKBvnkpIS"
   },
   "source": [
    "**Answer** \\#Categorical (nominal) features in the current dataset: Name, Type 1 and Type 2, Legendary. Categorical (ordinal) features: Generation (this is a unique case, when numerical variable is treated as categorical). Numerical: # as an identifier, Total, HP, Attack, Defense, Sp. Atk, Sp. Def, Speed. \n",
    "\n",
    "Name, Type 1, Type 2 and Legendary are categorical (nominal), because we can't perform arithmetic operations with these variables, they are exclusive, no numerical meaning. \n",
    "Generation is categorical (ordinal), because it represents a clear ordering and has limited set of discrete values. \n",
    "Other features are all quantitative characteristics of the pokemons (except for #, but it is not meant for calculations)."
   ]
  },
  {
   "cell_type": "markdown",
   "metadata": {
    "id": "6PNBhh3YmDNh"
   },
   "source": [
    "# Task 2 (1 point)"
   ]
  },
  {
   "cell_type": "markdown",
   "metadata": {
    "id": "-dFVCWhTmMZI"
   },
   "source": [
    "It is said in the description of the dataset that `Total` is the sum of the stats after it. Let's check, if it is true.\n",
    "\n",
    "Create a new column `'New Total'`, what is the sum of `HP, \tAttack,\tDefense,\tSp. Atk,\tSp. Def,\tSpeed`"
   ]
  },
  {
   "cell_type": "code",
   "execution_count": 10,
   "metadata": {
    "id": "tpzPIRASmFyX"
   },
   "outputs": [
    {
     "data": {
      "text/html": [
       "<div>\n",
       "<style scoped>\n",
       "    .dataframe tbody tr th:only-of-type {\n",
       "        vertical-align: middle;\n",
       "    }\n",
       "\n",
       "    .dataframe tbody tr th {\n",
       "        vertical-align: top;\n",
       "    }\n",
       "\n",
       "    .dataframe thead th {\n",
       "        text-align: right;\n",
       "    }\n",
       "</style>\n",
       "<table border=\"1\" class=\"dataframe\">\n",
       "  <thead>\n",
       "    <tr style=\"text-align: right;\">\n",
       "      <th></th>\n",
       "      <th>#</th>\n",
       "      <th>Name</th>\n",
       "      <th>Type 1</th>\n",
       "      <th>Type 2</th>\n",
       "      <th>Total</th>\n",
       "      <th>HP</th>\n",
       "      <th>Attack</th>\n",
       "      <th>Defense</th>\n",
       "      <th>Sp. Atk</th>\n",
       "      <th>Sp. Def</th>\n",
       "      <th>Speed</th>\n",
       "      <th>Generation</th>\n",
       "      <th>Legendary</th>\n",
       "      <th>New Total</th>\n",
       "    </tr>\n",
       "  </thead>\n",
       "  <tbody>\n",
       "    <tr>\n",
       "      <th>611</th>\n",
       "      <td>551</td>\n",
       "      <td>Sandile</td>\n",
       "      <td>Ground</td>\n",
       "      <td>Dark</td>\n",
       "      <td>292</td>\n",
       "      <td>50</td>\n",
       "      <td>72</td>\n",
       "      <td>35</td>\n",
       "      <td>35</td>\n",
       "      <td>35</td>\n",
       "      <td>65</td>\n",
       "      <td>5</td>\n",
       "      <td>False</td>\n",
       "      <td>292</td>\n",
       "    </tr>\n",
       "    <tr>\n",
       "      <th>630</th>\n",
       "      <td>569</td>\n",
       "      <td>Garbodor</td>\n",
       "      <td>Poison</td>\n",
       "      <td>NaN</td>\n",
       "      <td>474</td>\n",
       "      <td>80</td>\n",
       "      <td>95</td>\n",
       "      <td>82</td>\n",
       "      <td>60</td>\n",
       "      <td>82</td>\n",
       "      <td>75</td>\n",
       "      <td>5</td>\n",
       "      <td>False</td>\n",
       "      <td>474</td>\n",
       "    </tr>\n",
       "    <tr>\n",
       "      <th>9</th>\n",
       "      <td>7</td>\n",
       "      <td>Squirtle</td>\n",
       "      <td>Water</td>\n",
       "      <td>NaN</td>\n",
       "      <td>314</td>\n",
       "      <td>44</td>\n",
       "      <td>48</td>\n",
       "      <td>65</td>\n",
       "      <td>50</td>\n",
       "      <td>64</td>\n",
       "      <td>43</td>\n",
       "      <td>1</td>\n",
       "      <td>False</td>\n",
       "      <td>314</td>\n",
       "    </tr>\n",
       "  </tbody>\n",
       "</table>\n",
       "</div>"
      ],
      "text/plain": [
       "       #      Name  Type 1 Type 2  Total  HP  Attack  Defense  Sp. Atk  \\\n",
       "611  551   Sandile  Ground   Dark    292  50      72       35       35   \n",
       "630  569  Garbodor  Poison    NaN    474  80      95       82       60   \n",
       "9      7  Squirtle   Water    NaN    314  44      48       65       50   \n",
       "\n",
       "     Sp. Def  Speed  Generation  Legendary  New Total  \n",
       "611       35     65           5      False        292  \n",
       "630       82     75           5      False        474  \n",
       "9         64     43           1      False        314  "
      ]
     },
     "execution_count": 10,
     "metadata": {},
     "output_type": "execute_result"
    }
   ],
   "source": [
    "df['New Total'] = df['HP'] + df['Attack'] + df['Defense'] + df['Sp. Atk'] + df['Sp. Def'] + df['Speed']\n",
    "df.sample(3)"
   ]
  },
  {
   "cell_type": "code",
   "execution_count": 8,
   "metadata": {},
   "outputs": [
    {
     "data": {
      "text/plain": [
       "0      318\n",
       "1      405\n",
       "2      525\n",
       "3      625\n",
       "4      309\n",
       "      ... \n",
       "795    600\n",
       "796    700\n",
       "797    600\n",
       "798    680\n",
       "799    600\n",
       "Name: New Total, Length: 800, dtype: int64"
      ]
     },
     "execution_count": 8,
     "metadata": {},
     "output_type": "execute_result"
    }
   ],
   "source": [
    "df['New Total']"
   ]
  },
  {
   "cell_type": "markdown",
   "metadata": {
    "id": "VG6XFDEumv2-"
   },
   "source": [
    "Now, print the number of rows that contain deifferent   `'Total'` and `'New Total'` values and depict these rows.\n",
    "\n",
    "Hint: compare columns `'Total'` and `'New Total'` and filter rows using the comparison.\n"
   ]
  },
  {
   "cell_type": "code",
   "execution_count": 11,
   "metadata": {
    "id": "kVILcZxjm7M_"
   },
   "outputs": [],
   "source": [
    "different_totals = df[df['Total'] != df['New Total']]"
   ]
  },
  {
   "cell_type": "code",
   "execution_count": 12,
   "metadata": {},
   "outputs": [
    {
     "name": "stdout",
     "output_type": "stream",
     "text": [
      "Number of rows with different Total values: 0\n"
     ]
    }
   ],
   "source": [
    "print(f\"Number of rows with different Total values: {len(different_totals)}\")"
   ]
  },
  {
   "cell_type": "markdown",
   "metadata": {
    "id": "wROS0m8BnY3x"
   },
   "source": [
    "# Task 3 (2 points)"
   ]
  },
  {
   "cell_type": "markdown",
   "metadata": {
    "id": "adiIipTHnegG"
   },
   "source": [
    "Create a frequency table for the `'Type 1'` feature"
   ]
  },
  {
   "cell_type": "code",
   "execution_count": 21,
   "metadata": {
    "id": "8TOLBO2CnjzZ"
   },
   "outputs": [
    {
     "data": {
      "text/plain": [
       "Type 1\n",
       "Water       112\n",
       "Normal       98\n",
       "Grass        70\n",
       "Bug          69\n",
       "Psychic      57\n",
       "Fire         52\n",
       "Electric     44\n",
       "Rock         44\n",
       "Dragon       32\n",
       "Ground       32\n",
       "Ghost        32\n",
       "Dark         31\n",
       "Poison       28\n",
       "Steel        27\n",
       "Fighting     27\n",
       "Ice          24\n",
       "Fairy        17\n",
       "Flying        4\n",
       "Name: count, dtype: int64"
      ]
     },
     "execution_count": 21,
     "metadata": {},
     "output_type": "execute_result"
    }
   ],
   "source": [
    "df['Type 1'].value_counts()"
   ]
  },
  {
   "cell_type": "code",
   "execution_count": 43,
   "metadata": {},
   "outputs": [],
   "source": [
    "type1_counts = df['Type 1'].value_counts()"
   ]
  },
  {
   "cell_type": "markdown",
   "metadata": {
    "id": "FD02CLs6nw-u"
   },
   "source": [
    "Also, add proportions and percentage for every type  to the table.\n",
    "\n",
    "Hint: `Series.to_frame` may be a useful function"
   ]
  },
  {
   "cell_type": "code",
   "execution_count": 44,
   "metadata": {
    "id": "1vyFwGy8n6hb"
   },
   "outputs": [],
   "source": [
    "type1_df = type1_counts.to_frame(name='Count')"
   ]
  },
  {
   "cell_type": "code",
   "execution_count": 45,
   "metadata": {},
   "outputs": [],
   "source": [
    "type1_df['Proportion'] = type1_df['Count'] / len(df)\n",
    "type1_df['Percentage'] = (type1_df['Proportion'] * 100).round(2).astype(str) + '%'"
   ]
  },
  {
   "cell_type": "code",
   "execution_count": 46,
   "metadata": {},
   "outputs": [
    {
     "name": "stdout",
     "output_type": "stream",
     "text": [
      "          Count  Proportion Percentage\n",
      "Type 1                                \n",
      "Water       112     0.14000      14.0%\n",
      "Normal       98     0.12250     12.25%\n",
      "Grass        70     0.08750      8.75%\n",
      "Bug          69     0.08625      8.62%\n",
      "Psychic      57     0.07125      7.12%\n",
      "Fire         52     0.06500       6.5%\n",
      "Electric     44     0.05500       5.5%\n",
      "Rock         44     0.05500       5.5%\n",
      "Dragon       32     0.04000       4.0%\n",
      "Ground       32     0.04000       4.0%\n",
      "Ghost        32     0.04000       4.0%\n",
      "Dark         31     0.03875      3.88%\n",
      "Poison       28     0.03500       3.5%\n",
      "Steel        27     0.03375      3.38%\n",
      "Fighting     27     0.03375      3.38%\n",
      "Ice          24     0.03000       3.0%\n",
      "Fairy        17     0.02125      2.12%\n",
      "Flying        4     0.00500       0.5%\n"
     ]
    }
   ],
   "source": [
    "print(type1_df)"
   ]
  },
  {
   "cell_type": "markdown",
   "metadata": {
    "id": "alhitU-eontE"
   },
   "source": [
    "Draw a plot to depict the percentage. Make sure to make labels/ticks readable."
   ]
  },
  {
   "cell_type": "code",
   "execution_count": 119,
   "metadata": {
    "id": "7-taUHfuouFw"
   },
   "outputs": [
    {
     "data": {
      "text/plain": [
       "([0, 1, 2, 3, 4, 5, 6, 7, 8, 9, 10, 11, 12, 13, 14, 15, 16, 17],\n",
       " [Text(0, 0, 'Grass'),\n",
       "  Text(1, 0, 'Fire'),\n",
       "  Text(2, 0, 'Water'),\n",
       "  Text(3, 0, 'Bug'),\n",
       "  Text(4, 0, 'Normal'),\n",
       "  Text(5, 0, 'Poison'),\n",
       "  Text(6, 0, 'Electric'),\n",
       "  Text(7, 0, 'Ground'),\n",
       "  Text(8, 0, 'Fairy'),\n",
       "  Text(9, 0, 'Fighting'),\n",
       "  Text(10, 0, 'Psychic'),\n",
       "  Text(11, 0, 'Rock'),\n",
       "  Text(12, 0, 'Ghost'),\n",
       "  Text(13, 0, 'Ice'),\n",
       "  Text(14, 0, 'Dragon'),\n",
       "  Text(15, 0, 'Dark'),\n",
       "  Text(16, 0, 'Steel'),\n",
       "  Text(17, 0, 'Flying')])"
      ]
     },
     "execution_count": 119,
     "metadata": {},
     "output_type": "execute_result"
    },
    {
     "data": {
      "image/png": "[encoded data removed]",
      "text/plain": [
       "<Figure size 640x480 with 1 Axes>"
      ]
     },
     "metadata": {},
     "output_type": "display_data"
    }
   ],
   "source": [
    "sns.histplot(data=df, x='Type 1', stat='percent', shrink=0.8)\n",
    "plt.xticks(rotation=45, ha='right')"
   ]
  },
  {
   "cell_type": "markdown",
   "metadata": {
    "id": "NaOJiwvEpR62"
   },
   "source": [
    "Draw conclusions from the plot. (Are there a lot of differnet types? What is the most/least popular type? ...)"
   ]
  },
  {
   "cell_type": "markdown",
   "metadata": {
    "id": "zKhzK0FxpeI-"
   },
   "source": [
    "**Answer** \\#Yes, there are a lot of types. According to the plot, Water and Normal appear to be the most popularf types, while Fairy and Flying are the least popular. Regarding the general distribution, there is a considerable imbalance across types. That is, the top three types (Water, Normal, Grass) together account for about 35% of all Pokemon."
   ]
  },
  {
   "cell_type": "markdown",
   "metadata": {
    "id": "2jq92opzqRfX"
   },
   "source": [
    "# Task 4 (2 points)"
   ]
  },
  {
   "cell_type": "markdown",
   "metadata": {
    "id": "ilvnzZ-FqTja"
   },
   "source": [
    "Compue the measures of central tendency for the `Sp. Atk` feature"
   ]
  },
  {
   "cell_type": "code",
   "execution_count": 39,
   "metadata": {
    "id": "nuj_1WBOqZCO"
   },
   "outputs": [
    {
     "data": {
      "text/plain": [
       "72.82"
      ]
     },
     "execution_count": 39,
     "metadata": {},
     "output_type": "execute_result"
    }
   ],
   "source": [
    "col = 'Sp. Atk'\n",
    "df['Sp. Atk'].mean()"
   ]
  },
  {
   "cell_type": "code",
   "execution_count": 40,
   "metadata": {},
   "outputs": [
    {
     "data": {
      "text/plain": [
       "65.0"
      ]
     },
     "execution_count": 40,
     "metadata": {},
     "output_type": "execute_result"
    }
   ],
   "source": [
    "df['Sp. Atk'].median()"
   ]
  },
  {
   "cell_type": "code",
   "execution_count": 41,
   "metadata": {},
   "outputs": [
    {
     "data": {
      "text/plain": [
       "0    60\n",
       "Name: Sp. Atk, dtype: int64"
      ]
     },
     "execution_count": 41,
     "metadata": {},
     "output_type": "execute_result"
    }
   ],
   "source": [
    "df['Sp. Atk'].mode()"
   ]
  },
  {
   "cell_type": "markdown",
   "metadata": {
    "id": "IihXI9laq5IR"
   },
   "source": [
    "Draw a histogram for the feature and depict the measures on it"
   ]
  },
  {
   "cell_type": "code",
   "execution_count": 42,
   "metadata": {
    "id": "0M3cl1oEqcwh"
   },
   "outputs": [
    {
     "data": {
      "image/png": "[encoded data removed]",
      "text/plain": [
       "<Figure size 640x480 with 1 Axes>"
      ]
     },
     "metadata": {},
     "output_type": "display_data"
    }
   ],
   "source": [
    "plt.hist(df['Sp. Atk'], bins=20)\n",
    "\n",
    "#Dashed lines near mean and median\n",
    "plt.axvline(df['Sp. Atk'].mean(), linestyle='--', c='black', label='mean')\n",
    "plt.axvline(df['Sp. Atk'].median(), linestyle='--', c='red', label='median')\n",
    "plt.axvline(df['Sp. Atk'].mode()[0], linestyle='--', c='yellow', label='mode')\n",
    "\n",
    "plt.legend(loc='upper right')\n",
    "plt.show()"
   ]
  },
  {
   "cell_type": "markdown",
   "metadata": {
    "id": "dtsfjNLJrO2Z"
   },
   "source": [
    "Is the distribution skewed? Explain your answer."
   ]
  },
  {
   "cell_type": "markdown",
   "metadata": {
    "id": "MDMXnZ85rVrK"
   },
   "source": [
    "**Answer** \\#yes,it is. It is positively skewed. We can see that from the following characteristics: the tail of the distribution extends further to the right (toward higher values) than to the left; the mean (shown by the black dashed line) is to the right of both the median (red dashed line) and mode (yellow dashed line); mean is higher than median and higher than mode, which is a classical case of positively skewed distributions"
   ]
  },
  {
   "cell_type": "markdown",
   "metadata": {
    "id": "0_3rhUhar7Gw"
   },
   "source": [
    "# Task 5 (2 point)"
   ]
  },
  {
   "cell_type": "markdown",
   "metadata": {
    "id": "Zmfma0pcr83o"
   },
   "source": [
    "Now, compute measures of central tendencies for legendary and not legendary separately. Is there any difference?"
   ]
  },
  {
   "cell_type": "code",
   "execution_count": 110,
   "metadata": {
    "id": "bDE27UK7sJ3D"
   },
   "outputs": [
    {
     "data": {
      "text/html": [
       "<div>\n",
       "<style scoped>\n",
       "    .dataframe tbody tr th:only-of-type {\n",
       "        vertical-align: middle;\n",
       "    }\n",
       "\n",
       "    .dataframe tbody tr th {\n",
       "        vertical-align: top;\n",
       "    }\n",
       "\n",
       "    .dataframe thead tr th {\n",
       "        text-align: left;\n",
       "    }\n",
       "\n",
       "    .dataframe thead tr:last-of-type th {\n",
       "        text-align: right;\n",
       "    }\n",
       "</style>\n",
       "<table border=\"1\" class=\"dataframe\">\n",
       "  <thead>\n",
       "    <tr>\n",
       "      <th></th>\n",
       "      <th colspan=\"2\" halign=\"left\">Total</th>\n",
       "      <th colspan=\"2\" halign=\"left\">HP</th>\n",
       "      <th colspan=\"2\" halign=\"left\">Attack</th>\n",
       "      <th colspan=\"2\" halign=\"left\">Defense</th>\n",
       "      <th colspan=\"2\" halign=\"left\">Sp. Atk</th>\n",
       "      <th colspan=\"2\" halign=\"left\">Sp. Def</th>\n",
       "      <th colspan=\"2\" halign=\"left\">Speed</th>\n",
       "    </tr>\n",
       "    <tr>\n",
       "      <th></th>\n",
       "      <th>mean</th>\n",
       "      <th>median</th>\n",
       "      <th>mean</th>\n",
       "      <th>median</th>\n",
       "      <th>mean</th>\n",
       "      <th>median</th>\n",
       "      <th>mean</th>\n",
       "      <th>median</th>\n",
       "      <th>mean</th>\n",
       "      <th>median</th>\n",
       "      <th>mean</th>\n",
       "      <th>median</th>\n",
       "      <th>mean</th>\n",
       "      <th>median</th>\n",
       "    </tr>\n",
       "    <tr>\n",
       "      <th>Legendary</th>\n",
       "      <th></th>\n",
       "      <th></th>\n",
       "      <th></th>\n",
       "      <th></th>\n",
       "      <th></th>\n",
       "      <th></th>\n",
       "      <th></th>\n",
       "      <th></th>\n",
       "      <th></th>\n",
       "      <th></th>\n",
       "      <th></th>\n",
       "      <th></th>\n",
       "      <th></th>\n",
       "      <th></th>\n",
       "    </tr>\n",
       "  </thead>\n",
       "  <tbody>\n",
       "    <tr>\n",
       "      <th>False</th>\n",
       "      <td>417.213605</td>\n",
       "      <td>425.0</td>\n",
       "      <td>67.182313</td>\n",
       "      <td>65.0</td>\n",
       "      <td>75.669388</td>\n",
       "      <td>72.0</td>\n",
       "      <td>71.559184</td>\n",
       "      <td>66.0</td>\n",
       "      <td>68.454422</td>\n",
       "      <td>65.0</td>\n",
       "      <td>68.892517</td>\n",
       "      <td>65.0</td>\n",
       "      <td>65.455782</td>\n",
       "      <td>64.0</td>\n",
       "    </tr>\n",
       "    <tr>\n",
       "      <th>True</th>\n",
       "      <td>637.384615</td>\n",
       "      <td>600.0</td>\n",
       "      <td>92.738462</td>\n",
       "      <td>91.0</td>\n",
       "      <td>116.676923</td>\n",
       "      <td>110.0</td>\n",
       "      <td>99.661538</td>\n",
       "      <td>100.0</td>\n",
       "      <td>122.184615</td>\n",
       "      <td>120.0</td>\n",
       "      <td>105.938462</td>\n",
       "      <td>100.0</td>\n",
       "      <td>100.184615</td>\n",
       "      <td>100.0</td>\n",
       "    </tr>\n",
       "  </tbody>\n",
       "</table>\n",
       "</div>"
      ],
      "text/plain": [
       "                Total                HP             Attack           Defense  \\\n",
       "                 mean median       mean median        mean median       mean   \n",
       "Legendary                                                                      \n",
       "False      417.213605  425.0  67.182313   65.0   75.669388   72.0  71.559184   \n",
       "True       637.384615  600.0  92.738462   91.0  116.676923  110.0  99.661538   \n",
       "\n",
       "                     Sp. Atk            Sp. Def              Speed         \n",
       "          median        mean median        mean median        mean median  \n",
       "Legendary                                                                  \n",
       "False       66.0   68.454422   65.0   68.892517   65.0   65.455782   64.0  \n",
       "True       100.0  122.184615  120.0  105.938462  100.0  100.184615  100.0  "
      ]
     },
     "execution_count": 110,
     "metadata": {},
     "output_type": "execute_result"
    }
   ],
   "source": [
    "df.groupby('Legendary').agg({\n",
    "    'Total': ['mean', 'median'],\n",
    "    'HP': ['mean', 'median'],\n",
    "    'Attack': ['mean', 'median'],\n",
    "    'Defense': ['mean', 'median'],\n",
    "    'Sp. Atk': ['mean', 'median'],\n",
    "    'Sp. Def': ['mean', 'median'],\n",
    "    'Speed': ['mean', 'median']\n",
    "})"
   ]
  },
  {
   "cell_type": "markdown",
   "metadata": {
    "id": "TYSPubUxsfw5"
   },
   "source": [
    "**Answer** \\#I computed the differences between Legendary and Non-Legendary pokemons in case of Mean and Median tendencies.  We see that Legendary pokemons are generally stronger than non-legendary ones: if we consider 'Total' variable, mean value suggests that legendary pokemons are about 220 points stronger on average, median -- that a median legendary pokemon is 175 points stronger than non-legendary one."
   ]
  },
  {
   "cell_type": "markdown",
   "metadata": {
    "id": "te5n7n1FssWT"
   },
   "source": [
    "Draw the hisograms on one plot.\n",
    "\n",
    "Hint: use `hue` in `sns.histplot`"
   ]
  },
  {
   "cell_type": "code",
   "execution_count": 120,
   "metadata": {
    "id": "OYiAwgbDsvOa"
   },
   "outputs": [
    {
     "data": {
      "text/plain": [
       "<Axes: xlabel='Total', ylabel='Count'>"
      ]
     },
     "execution_count": 120,
     "metadata": {},
     "output_type": "execute_result"
    },
    {
     "data": {
      "image/png": "[encoded data removed]",
      "text/plain": [
       "<Figure size 640x480 with 1 Axes>"
      ]
     },
     "metadata": {},
     "output_type": "display_data"
    }
   ],
   "source": [
    "sns.histplot(data=df, x='Total', hue='Legendary', bins=20, alpha=0.7)"
   ]
  },
  {
   "cell_type": "markdown",
   "metadata": {
    "id": "OmIStG4Qtus7"
   },
   "source": [
    "# Task 6 (2 point)"
   ]
  },
  {
   "cell_type": "markdown",
   "metadata": {
    "id": "yDPxukLAtOzt"
   },
   "source": [
    "There is a problem that bars for legendary pokemons are significantly smaller than the bars for non-legendary. Explain, why is it happening"
   ]
  },
  {
   "cell_type": "code",
   "execution_count": 135,
   "metadata": {
    "id": "XERF7aoxtgZp"
   },
   "outputs": [],
   "source": [
    "legendary = df[df['Legendary'] == True].shape[0]\n",
    "non_legendary = df[df['Legendary'] == False].shape[0]\n",
    "total = df.shape[0]"
   ]
  },
  {
   "cell_type": "code",
   "execution_count": 136,
   "metadata": {},
   "outputs": [
    {
     "name": "stdout",
     "output_type": "stream",
     "text": [
      "8.125\n"
     ]
    }
   ],
   "source": [
    "legendary_percent = (legendary / total) * 100\n",
    "non_legendary_percent = (non_legendary / total) * 100\n",
    "\n",
    "print(legendary_percent)"
   ]
  },
  {
   "cell_type": "code",
   "execution_count": 137,
   "metadata": {},
   "outputs": [
    {
     "name": "stdout",
     "output_type": "stream",
     "text": [
      "91.875\n"
     ]
    }
   ],
   "source": [
    "print(non_legendary_percent)"
   ]
  },
  {
   "cell_type": "code",
   "execution_count": null,
   "metadata": {},
   "outputs": [],
   "source": []
  },
  {
   "cell_type": "code",
   "execution_count": null,
   "metadata": {},
   "outputs": [],
   "source": []
  },
  {
   "cell_type": "markdown",
   "metadata": {
    "id": "GCm60C4vtbj1"
   },
   "source": [
    "**Answer** \\#We see that the difference is very high -- 8% of legendary and 92% of non-legendary pokemons. There is  a substantial imbalance in the dataset, which is now also represented in percentage. "
   ]
  },
  {
   "cell_type": "markdown",
   "metadata": {
    "id": "H3kVPnwouDco"
   },
   "source": [
    "Fix the histogram (make the bars comparable hights), so it wil be more convenient to compare the distributions.\n",
    "\n",
    "Hint: consult the [documentation for the histplot](https://seaborn.pydata.org/generated/seaborn.histplot.html) and find, which optional arguments may help."
   ]
  },
  {
   "cell_type": "code",
   "execution_count": 122,
   "metadata": {},
   "outputs": [
    {
     "data": {
      "text/plain": [
       "<Axes: xlabel='Total', ylabel='Percent'>"
      ]
     },
     "execution_count": 122,
     "metadata": {},
     "output_type": "execute_result"
    },
    {
     "data": {
      "image/png": "[encoded data removed]",
      "text/plain": [
       "<Figure size 640x480 with 1 Axes>"
      ]
     },
     "metadata": {},
     "output_type": "display_data"
    }
   ],
   "source": [
    "sns.histplot(data=df, x='Total', hue='Legendary', stat='percent', common_norm=False)"
   ]
  },
  {
   "cell_type": "markdown",
   "metadata": {
    "id": "8ToKOf9cu7Uh"
   },
   "source": [
    "Now, make conclusions about the distributions"
   ]
  },
  {
   "cell_type": "markdown",
   "metadata": {
    "id": "Z5jWEuK6vAEU"
   },
   "source": [
    "**Answer** \\#I decided to use Percentage instead of Count. Now we can see that non-legendary pokemons are primarily distributed between 200-600 total stats, while legendary pokemons are primarily distributed between 550-800 total stats. Over 55% of legendary pokemons have Total stats concentrated in the 580-620 range. "
   ]
  }
 ],
 "metadata": {
  "colab": {
   "provenance": [],
   "toc_visible": true
  },
  "kernelspec": {
   "display_name": "Python 3 (ipykernel)",
   "language": "python",
   "name": "python3"
  },
  "language_info": {
   "codemirror_mode": {
    "name": "ipython",
    "version": 3
   },
   "file_extension": ".py",
   "mimetype": "text/x-python",
   "name": "python",
   "nbconvert_exporter": "python",
   "pygments_lexer": "ipython3",
   "version": "3.11.0"
  }
 },
 "nbformat": 4,
 "nbformat_minor": 4
}
