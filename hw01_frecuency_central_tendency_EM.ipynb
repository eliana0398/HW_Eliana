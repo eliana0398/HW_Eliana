{
 "cells": [
  {
   "cell_type": "markdown",
   "metadata": {
    "id": "AelhvBEmHcfC"
   },
   "source": [
    "About the homework: In some tasks, in addition to writing code, answers to questions and conclusions are required (there are special Markdown cells marked with **Answer**).\n",
    "\n",
    "The ability to analyze the results of experiments is an important skill. Therefore, answers carry more weight than the code: the code accounts for 30% of the task grade, while answers to questions account for 70%."
   ]
  },
  {
   "cell_type": "code",
   "execution_count": 3,
   "metadata": {
    "tags": []
   },
   "outputs": [
    {
     "name": "stdout",
     "output_type": "stream",
     "text": [
      "Traceback (most recent call last):\n",
      "  File \"<frozen runpy>\", line 189, in _run_module_as_main\n",
      "  File \"<frozen runpy>\", line 148, in _get_module_details\n",
      "  File \"<frozen runpy>\", line 112, in _get_module_details\n",
      "  File \"/Users/admin/opt/anaconda3/envs/deepfake/lib/python3.11/site-packages/pip/__init__.py\", line 21, in <module>\n",
      "    from pip._vendor.requests.packages.urllib3.exceptions import DependencyWarning\n",
      "  File \"/Users/admin/opt/anaconda3/envs/deepfake/lib/python3.11/site-packages/pip/_vendor/requests/__init__.py\", line 65, in <module>\n",
      "    from . import utils\n",
      "  File \"/Users/admin/opt/anaconda3/envs/deepfake/lib/python3.11/site-packages/pip/_vendor/requests/utils.py\", line 27, in <module>\n",
      "    from .cookies import RequestsCookieJar, cookiejar_from_dict\n",
      "  File \"/Users/admin/opt/anaconda3/envs/deepfake/lib/python3.11/site-packages/pip/_vendor/requests/cookies.py\", line 172, in <module>\n",
      "    class RequestsCookieJar(cookielib.CookieJar, collections.MutableMapping):\n",
      "                                                 ^^^^^^^^^^^^^^^^^^^^^^^^^^\n",
      "AttributeError: module 'collections' has no attribute 'MutableMapping'\n",
      "Note: you may need to restart the kernel to use updated packages.\n"
     ]
    }
   ],
   "source": [
    "pip install --upgrade pandas matplotlib"
   ]
  },
  {
   "cell_type": "code",
   "execution_count": 4,
   "metadata": {
    "id": "nzHz8x37jri1",
    "tags": []
   },
   "outputs": [],
   "source": [
    "import numpy as np\n",
    "import pandas as pd\n",
    "import matplotlib.pyplot as plt\n",
    "import seaborn as sns"
   ]
  },
  {
   "cell_type": "markdown",
   "metadata": {
    "id": "1mAIjDWLjd_6"
   },
   "source": [
    "Download the [dataset about Pokemons](https://www.kaggle.com/datasets/abcsds/pokemon)"
   ]
  },
  {
   "cell_type": "code",
   "execution_count": 138,
   "metadata": {
    "id": "4KSPk8weisct",
    "tags": []
   },
   "outputs": [
    {
     "data": {
      "text/html": [
       "<div>\n",
       "<style scoped>\n",
       "    .dataframe tbody tr th:only-of-type {\n",
       "        vertical-align: middle;\n",
       "    }\n",
       "\n",
       "    .dataframe tbody tr th {\n",
       "        vertical-align: top;\n",
       "    }\n",
       "\n",
       "    .dataframe thead th {\n",
       "        text-align: right;\n",
       "    }\n",
       "</style>\n",
       "<table border=\"1\" class=\"dataframe\">\n",
       "  <thead>\n",
       "    <tr style=\"text-align: right;\">\n",
       "      <th></th>\n",
       "      <th>#</th>\n",
       "      <th>Name</th>\n",
       "      <th>Type 1</th>\n",
       "      <th>Type 2</th>\n",
       "      <th>Total</th>\n",
       "      <th>HP</th>\n",
       "      <th>Attack</th>\n",
       "      <th>Defense</th>\n",
       "      <th>Sp. Atk</th>\n",
       "      <th>Sp. Def</th>\n",
       "      <th>Speed</th>\n",
       "      <th>Generation</th>\n",
       "      <th>Legendary</th>\n",
       "    </tr>\n",
       "  </thead>\n",
       "  <tbody>\n",
       "    <tr>\n",
       "      <th>593</th>\n",
       "      <td>533</td>\n",
       "      <td>Gurdurr</td>\n",
       "      <td>Fighting</td>\n",
       "      <td>NaN</td>\n",
       "      <td>405</td>\n",
       "      <td>85</td>\n",
       "      <td>105</td>\n",
       "      <td>85</td>\n",
       "      <td>40</td>\n",
       "      <td>50</td>\n",
       "      <td>40</td>\n",
       "      <td>5</td>\n",
       "      <td>False</td>\n",
       "    </tr>\n",
       "    <tr>\n",
       "      <th>731</th>\n",
       "      <td>663</td>\n",
       "      <td>Talonflame</td>\n",
       "      <td>Fire</td>\n",
       "      <td>Flying</td>\n",
       "      <td>499</td>\n",
       "      <td>78</td>\n",
       "      <td>81</td>\n",
       "      <td>71</td>\n",
       "      <td>74</td>\n",
       "      <td>69</td>\n",
       "      <td>126</td>\n",
       "      <td>6</td>\n",
       "      <td>False</td>\n",
       "    </tr>\n",
       "    <tr>\n",
       "      <th>137</th>\n",
       "      <td>127</td>\n",
       "      <td>PinsirMega Pinsir</td>\n",
       "      <td>Bug</td>\n",
       "      <td>Flying</td>\n",
       "      <td>600</td>\n",
       "      <td>65</td>\n",
       "      <td>155</td>\n",
       "      <td>120</td>\n",
       "      <td>65</td>\n",
       "      <td>90</td>\n",
       "      <td>105</td>\n",
       "      <td>1</td>\n",
       "      <td>False</td>\n",
       "    </tr>\n",
       "    <tr>\n",
       "      <th>451</th>\n",
       "      <td>406</td>\n",
       "      <td>Budew</td>\n",
       "      <td>Grass</td>\n",
       "      <td>Poison</td>\n",
       "      <td>280</td>\n",
       "      <td>40</td>\n",
       "      <td>30</td>\n",
       "      <td>35</td>\n",
       "      <td>50</td>\n",
       "      <td>70</td>\n",
       "      <td>55</td>\n",
       "      <td>4</td>\n",
       "      <td>False</td>\n",
       "    </tr>\n",
       "  </tbody>\n",
       "</table>\n",
       "</div>"
      ],
      "text/plain": [
       "       #               Name    Type 1  Type 2  Total  HP  Attack  Defense  \\\n",
       "593  533            Gurdurr  Fighting     NaN    405  85     105       85   \n",
       "731  663         Talonflame      Fire  Flying    499  78      81       71   \n",
       "137  127  PinsirMega Pinsir       Bug  Flying    600  65     155      120   \n",
       "451  406              Budew     Grass  Poison    280  40      30       35   \n",
       "\n",
       "     Sp. Atk  Sp. Def  Speed  Generation  Legendary  \n",
       "593       40       50     40           5      False  \n",
       "731       74       69    126           6      False  \n",
       "137       65       90    105           1      False  \n",
       "451       50       70     55           4      False  "
      ]
     },
     "execution_count": 138,
     "metadata": {},
     "output_type": "execute_result"
    }
   ],
   "source": [
    "my_data = pd.read_csv('Pokemon.csv')\n",
    "my_data.sample(4)"
   ]
  },
  {
   "cell_type": "markdown",
   "metadata": {
    "id": "lvHas5wFkBLk"
   },
   "source": [
    "# Task 1 (1 point)"
   ]
  },
  {
   "cell_type": "markdown",
   "metadata": {
    "id": "Kc7y6m_ZkEx5"
   },
   "source": [
    "Investigate  the type of every feature. Is it numerical or cetegorical (nominal or ordinal)? Explain, why.\n",
    "\n",
    "You may need to check the type of the column or consult the description of the data on Kaggle.com"
   ]
  },
  {
   "cell_type": "code",
   "execution_count": 139,
   "metadata": {
    "id": "9L_0QA1Qlh_r"
   },
   "outputs": [
    {
     "data": {
      "text/plain": [
       "#              int64\n",
       "Name          object\n",
       "Type 1        object\n",
       "Type 2        object\n",
       "Total          int64\n",
       "HP             int64\n",
       "Attack         int64\n",
       "Defense        int64\n",
       "Sp. Atk        int64\n",
       "Sp. Def        int64\n",
       "Speed          int64\n",
       "Generation     int64\n",
       "Legendary       bool\n",
       "dtype: object"
      ]
     },
     "execution_count": 139,
     "metadata": {},
     "output_type": "execute_result"
    }
   ],
   "source": [
    "my_data.dtypes"
   ]
  },
  {
   "cell_type": "markdown",
   "metadata": {
    "id": "Os0HKBvnkpIS"
   },
   "source": [
    "**Answer** \\#Categorical (nominal) features in the current dataset: Name, Type 1 and Type 2, Legendary. Categorical (ordinal) features: Generation (this is a unique case, when numerical variable is treated as categorical). Numerical: # as an identifier, Total, HP, Attack, Defense, Sp. Atk, Sp. Def, Speed. \n",
    "\n",
    "Name, Type 1, Type 2 and Legendary are categorical (nominal), because we can't perform arithmetic operations with these variables, they are exclusive, no numerical meaning. \n",
    "Generation is categorical (ordinal), because it represents a clear ordering and has limited set of discrete values. \n",
    "Other features are all quantitative characteristics of the pokemons (except for #, but it is not meant for calculations)."
   ]
  },
  {
   "cell_type": "markdown",
   "metadata": {
    "id": "6PNBhh3YmDNh"
   },
   "source": [
    "# Task 2 (1 point)"
   ]
  },
  {
   "cell_type": "markdown",
   "metadata": {
    "id": "-dFVCWhTmMZI"
   },
   "source": [
    "It is said in the description of the dataset that `Total` is the sum of the stats after it. Let's check, if it is true.\n",
    "\n",
    "Create a new column `'New Total'`, what is the sum of `HP, \tAttack,\tDefense,\tSp. Atk,\tSp. Def,\tSpeed`"
   ]
  },
  {
   "cell_type": "code",
   "execution_count": 141,
   "metadata": {
    "id": "tpzPIRASmFyX"
   },
   "outputs": [
    {
     "data": {
      "text/html": [
       "<div>\n",
       "<style scoped>\n",
       "    .dataframe tbody tr th:only-of-type {\n",
       "        vertical-align: middle;\n",
       "    }\n",
       "\n",
       "    .dataframe tbody tr th {\n",
       "        vertical-align: top;\n",
       "    }\n",
       "\n",
       "    .dataframe thead th {\n",
       "        text-align: right;\n",
       "    }\n",
       "</style>\n",
       "<table border=\"1\" class=\"dataframe\">\n",
       "  <thead>\n",
       "    <tr style=\"text-align: right;\">\n",
       "      <th></th>\n",
       "      <th>#</th>\n",
       "      <th>Name</th>\n",
       "      <th>Type 1</th>\n",
       "      <th>Type 2</th>\n",
       "      <th>Total</th>\n",
       "      <th>HP</th>\n",
       "      <th>Attack</th>\n",
       "      <th>Defense</th>\n",
       "      <th>Sp. Atk</th>\n",
       "      <th>Sp. Def</th>\n",
       "      <th>Speed</th>\n",
       "      <th>Generation</th>\n",
       "      <th>Legendary</th>\n",
       "      <th>New Total</th>\n",
       "    </tr>\n",
       "  </thead>\n",
       "  <tbody>\n",
       "    <tr>\n",
       "      <th>392</th>\n",
       "      <td>359</td>\n",
       "      <td>Absol</td>\n",
       "      <td>Dark</td>\n",
       "      <td>NaN</td>\n",
       "      <td>465</td>\n",
       "      <td>65</td>\n",
       "      <td>130</td>\n",
       "      <td>60</td>\n",
       "      <td>75</td>\n",
       "      <td>60</td>\n",
       "      <td>75</td>\n",
       "      <td>3</td>\n",
       "      <td>False</td>\n",
       "      <td>465</td>\n",
       "    </tr>\n",
       "    <tr>\n",
       "      <th>664</th>\n",
       "      <td>603</td>\n",
       "      <td>Eelektrik</td>\n",
       "      <td>Electric</td>\n",
       "      <td>NaN</td>\n",
       "      <td>405</td>\n",
       "      <td>65</td>\n",
       "      <td>85</td>\n",
       "      <td>70</td>\n",
       "      <td>75</td>\n",
       "      <td>70</td>\n",
       "      <td>40</td>\n",
       "      <td>5</td>\n",
       "      <td>False</td>\n",
       "      <td>405</td>\n",
       "    </tr>\n",
       "    <tr>\n",
       "      <th>103</th>\n",
       "      <td>95</td>\n",
       "      <td>Onix</td>\n",
       "      <td>Rock</td>\n",
       "      <td>Ground</td>\n",
       "      <td>385</td>\n",
       "      <td>35</td>\n",
       "      <td>45</td>\n",
       "      <td>160</td>\n",
       "      <td>30</td>\n",
       "      <td>45</td>\n",
       "      <td>70</td>\n",
       "      <td>1</td>\n",
       "      <td>False</td>\n",
       "      <td>385</td>\n",
       "    </tr>\n",
       "    <tr>\n",
       "      <th>706</th>\n",
       "      <td>643</td>\n",
       "      <td>Reshiram</td>\n",
       "      <td>Dragon</td>\n",
       "      <td>Fire</td>\n",
       "      <td>680</td>\n",
       "      <td>100</td>\n",
       "      <td>120</td>\n",
       "      <td>100</td>\n",
       "      <td>150</td>\n",
       "      <td>120</td>\n",
       "      <td>90</td>\n",
       "      <td>5</td>\n",
       "      <td>True</td>\n",
       "      <td>680</td>\n",
       "    </tr>\n",
       "  </tbody>\n",
       "</table>\n",
       "</div>"
      ],
      "text/plain": [
       "       #       Name    Type 1  Type 2  Total   HP  Attack  Defense  Sp. Atk  \\\n",
       "392  359      Absol      Dark     NaN    465   65     130       60       75   \n",
       "664  603  Eelektrik  Electric     NaN    405   65      85       70       75   \n",
       "103   95       Onix      Rock  Ground    385   35      45      160       30   \n",
       "706  643   Reshiram    Dragon    Fire    680  100     120      100      150   \n",
       "\n",
       "     Sp. Def  Speed  Generation  Legendary  New Total  \n",
       "392       60     75           3      False        465  \n",
       "664       70     40           5      False        405  \n",
       "103       45     70           1      False        385  \n",
       "706      120     90           5       True        680  "
      ]
     },
     "execution_count": 141,
     "metadata": {},
     "output_type": "execute_result"
    }
   ],
   "source": [
    "my_data['New Total'] = df['HP'] + df['Attack'] + df['Defense'] + df['Sp. Atk'] + df['Sp. Def'] + df['Speed']\n",
    "my_data.sample(4)"
   ]
  },
  {
   "cell_type": "code",
   "execution_count": 142,
   "metadata": {},
   "outputs": [
    {
     "data": {
      "text/plain": [
       "0      318\n",
       "1      405\n",
       "2      525\n",
       "3      625\n",
       "4      309\n",
       "      ... \n",
       "795    600\n",
       "796    700\n",
       "797    600\n",
       "798    680\n",
       "799    600\n",
       "Name: New Total, Length: 800, dtype: int64"
      ]
     },
     "execution_count": 142,
     "metadata": {},
     "output_type": "execute_result"
    }
   ],
   "source": [
    "my_data['New Total']"
   ]
  },
  {
   "cell_type": "markdown",
   "metadata": {
    "id": "VG6XFDEumv2-"
   },
   "source": [
    "Now, print the number of rows that contain deifferent   `'Total'` and `'New Total'` values and depict these rows.\n",
    "\n",
    "Hint: compare columns `'Total'` and `'New Total'` and filter rows using the comparison.\n"
   ]
  },
  {
   "cell_type": "code",
   "execution_count": 147,
   "metadata": {
    "id": "kVILcZxjm7M_"
   },
   "outputs": [],
   "source": [
    "different_totals =my_data[my_data['Total'] !=my_data['New Total']]"
   ]
  },
  {
   "cell_type": "code",
   "execution_count": 148,
   "metadata": {},
   "outputs": [
    {
     "name": "stdout",
     "output_type": "stream",
     "text": [
      "Number of rows with different Total values: 0\n"
     ]
    }
   ],
   "source": [
    "print(f\"Number of rows with different Total values: {len(different_totals)}\")"
   ]
  },
  {
   "cell_type": "markdown",
   "metadata": {
    "id": "wROS0m8BnY3x"
   },
   "source": [
    "# Task 3 (2 points)"
   ]
  },
  {
   "cell_type": "markdown",
   "metadata": {
    "id": "adiIipTHnegG"
   },
   "source": [
    "Create a frequency table for the `'Type 1'` feature"
   ]
  },
  {
   "cell_type": "code",
   "execution_count": 149,
   "metadata": {
    "id": "8TOLBO2CnjzZ"
   },
   "outputs": [
    {
     "data": {
      "text/plain": [
       "Type 1\n",
       "Water       112\n",
       "Normal       98\n",
       "Grass        70\n",
       "Bug          69\n",
       "Psychic      57\n",
       "Fire         52\n",
       "Electric     44\n",
       "Rock         44\n",
       "Dragon       32\n",
       "Ground       32\n",
       "Ghost        32\n",
       "Dark         31\n",
       "Poison       28\n",
       "Steel        27\n",
       "Fighting     27\n",
       "Ice          24\n",
       "Fairy        17\n",
       "Flying        4\n",
       "Name: count, dtype: int64"
      ]
     },
     "execution_count": 149,
     "metadata": {},
     "output_type": "execute_result"
    }
   ],
   "source": [
    "my_data['Type 1'].value_counts()"
   ]
  },
  {
   "cell_type": "code",
   "execution_count": 150,
   "metadata": {},
   "outputs": [],
   "source": [
    "type1_counts = my_data['Type 1'].value_counts()"
   ]
  },
  {
   "cell_type": "markdown",
   "metadata": {
    "id": "FD02CLs6nw-u"
   },
   "source": [
    "Also, add proportions and percentage for every type  to the table.\n",
    "\n",
    "Hint: `Series.to_frame` may be a useful function"
   ]
  },
  {
   "cell_type": "code",
   "execution_count": 151,
   "metadata": {
    "id": "1vyFwGy8n6hb"
   },
   "outputs": [],
   "source": [
    "type1_my_data = type1_counts.to_frame(name='Count')"
   ]
  },
  {
   "cell_type": "code",
   "execution_count": 152,
   "metadata": {},
   "outputs": [],
   "source": [
    "type1_my_data['Proportion'] = type1_my_data['Count'] / len(my_data)\n",
    "type1_my_data['Percentage'] = (type1_my_data['Proportion'] * 100).round(2).astype(str) + '%'"
   ]
  },
  {
   "cell_type": "code",
   "execution_count": 153,
   "metadata": {},
   "outputs": [
    {
     "name": "stdout",
     "output_type": "stream",
     "text": [
      "          Count  Proportion Percentage\n",
      "Type 1                                \n",
      "Water       112     0.14000      14.0%\n",
      "Normal       98     0.12250     12.25%\n",
      "Grass        70     0.08750      8.75%\n",
      "Bug          69     0.08625      8.62%\n",
      "Psychic      57     0.07125      7.12%\n",
      "Fire         52     0.06500       6.5%\n",
      "Electric     44     0.05500       5.5%\n",
      "Rock         44     0.05500       5.5%\n",
      "Dragon       32     0.04000       4.0%\n",
      "Ground       32     0.04000       4.0%\n",
      "Ghost        32     0.04000       4.0%\n",
      "Dark         31     0.03875      3.88%\n",
      "Poison       28     0.03500       3.5%\n",
      "Steel        27     0.03375      3.38%\n",
      "Fighting     27     0.03375      3.38%\n",
      "Ice          24     0.03000       3.0%\n",
      "Fairy        17     0.02125      2.12%\n",
      "Flying        4     0.00500       0.5%\n"
     ]
    }
   ],
   "source": [
    "print(type1_my_data)"
   ]
  },
  {
   "cell_type": "markdown",
   "metadata": {
    "id": "alhitU-eontE"
   },
   "source": [
    "Draw a plot to depict the percentage. Make sure to make labels/ticks readable."
   ]
  },
  {
   "cell_type": "code",
   "execution_count": 157,
   "metadata": {
    "id": "7-taUHfuouFw"
   },
   "outputs": [
    {
     "data": {
      "text/plain": [
       "([0, 1, 2, 3, 4, 5, 6, 7, 8, 9, 10, 11, 12, 13, 14, 15, 16, 17],\n",
       " [Text(0, 0, 'Grass'),\n",
       "  Text(1, 0, 'Fire'),\n",
       "  Text(2, 0, 'Water'),\n",
       "  Text(3, 0, 'Bug'),\n",
       "  Text(4, 0, 'Normal'),\n",
       "  Text(5, 0, 'Poison'),\n",
       "  Text(6, 0, 'Electric'),\n",
       "  Text(7, 0, 'Ground'),\n",
       "  Text(8, 0, 'Fairy'),\n",
       "  Text(9, 0, 'Fighting'),\n",
       "  Text(10, 0, 'Psychic'),\n",
       "  Text(11, 0, 'Rock'),\n",
       "  Text(12, 0, 'Ghost'),\n",
       "  Text(13, 0, 'Ice'),\n",
       "  Text(14, 0, 'Dragon'),\n",
       "  Text(15, 0, 'Dark'),\n",
       "  Text(16, 0, 'Steel'),\n",
       "  Text(17, 0, 'Flying')])"
      ]
     },
     "execution_count": 157,
     "metadata": {},
     "output_type": "execute_result"
    },
    {
     "data": {
      "image/png": "[encoded data removed]",
      "text/plain": [
       "<Figure size 640x480 with 1 Axes>"
      ]
     },
     "metadata": {},
     "output_type": "display_data"
    }
   ],
   "source": [
    "sns.histplot(data= my_data, x ='Type 1', stat ='percent', shrink =0.8)\n",
    "plt.xticks(rotation= 75, ha='right')"
   ]
  },
  {
   "cell_type": "markdown",
   "metadata": {
    "id": "NaOJiwvEpR62"
   },
   "source": [
    "Draw conclusions from the plot. (Are there a lot of differnet types? What is the most/least popular type? ...)"
   ]
  },
  {
   "cell_type": "markdown",
   "metadata": {
    "id": "zKhzK0FxpeI-"
   },
   "source": [
    "**Answer** \\#Yes, there are a lot of types. According to the plot, Water and Normal appear to be the most popularf types, while Fairy and Flying are the least popular. Regarding the general distribution, there is a considerable imbalance across types. That is, the top three types (Water, Normal, Grass) together account for about 35% of all Pokemon."
   ]
  },
  {
   "cell_type": "markdown",
   "metadata": {
    "id": "2jq92opzqRfX"
   },
   "source": [
    "# Task 4 (2 points)"
   ]
  },
  {
   "cell_type": "markdown",
   "metadata": {
    "id": "ilvnzZ-FqTja"
   },
   "source": [
    "Compue the measures of central tendency for the `Sp. Atk` feature"
   ]
  },
  {
   "cell_type": "code",
   "execution_count": 159,
   "metadata": {
    "id": "nuj_1WBOqZCO"
   },
   "outputs": [
    {
     "data": {
      "text/plain": [
       "72.82"
      ]
     },
     "execution_count": 159,
     "metadata": {},
     "output_type": "execute_result"
    }
   ],
   "source": [
    "col= 'Sp. Atk'\n",
    "my_data['Sp. Atk'].mean()"
   ]
  },
  {
   "cell_type": "code",
   "execution_count": 160,
   "metadata": {},
   "outputs": [
    {
     "data": {
      "text/plain": [
       "65.0"
      ]
     },
     "execution_count": 160,
     "metadata": {},
     "output_type": "execute_result"
    }
   ],
   "source": [
    "my_data['Sp. Atk'].median()"
   ]
  },
  {
   "cell_type": "code",
   "execution_count": 161,
   "metadata": {},
   "outputs": [
    {
     "data": {
      "text/plain": [
       "0    60\n",
       "Name: Sp. Atk, dtype: int64"
      ]
     },
     "execution_count": 161,
     "metadata": {},
     "output_type": "execute_result"
    }
   ],
   "source": [
    "my_data['Sp. Atk'].mode()"
   ]
  },
  {
   "cell_type": "markdown",
   "metadata": {
    "id": "IihXI9laq5IR"
   },
   "source": [
    "Draw a histogram for the feature and depict the measures on it"
   ]
  },
  {
   "cell_type": "code",
   "execution_count": 163,
   "metadata": {
    "id": "0M3cl1oEqcwh"
   },
   "outputs": [
    {
     "data": {
      "image/png": "[encoded data removed]",
      "text/plain": [
       "<Figure size 640x480 with 1 Axes>"
      ]
     },
     "metadata": {},
     "output_type": "display_data"
    }
   ],
   "source": [
    "plt.hist(my_data['Sp. Atk'], bins=20)\n",
    "\n",
    "plt.axvline(my_data['Sp. Atk'].mean(), linestyle='--', c ='black', label ='mean')\n",
    "plt.axvline(my_data['Sp. Atk'].median(), linestyle='--', c ='red', label ='median')\n",
    "plt.axvline(my_data['Sp. Atk'].mode()[0], linestyle='--', c ='yellow', label ='mode')\n",
    "\n",
    "plt.show()"
   ]
  },
  {
   "cell_type": "markdown",
   "metadata": {
    "id": "dtsfjNLJrO2Z"
   },
   "source": [
    "Is the distribution skewed? Explain your answer."
   ]
  },
  {
   "cell_type": "markdown",
   "metadata": {
    "id": "MDMXnZ85rVrK"
   },
   "source": [
    "**Answer** \\#yes,it is. It is positively skewed. We can see that from the following characteristics: the tail of the distribution extends further to the right (toward higher values) than to the left; the mean (shown by the black dashed line) is to the right of both the median (red dashed line) and mode (yellow dashed line); mean is higher than median and higher than mode, which is a classical case of positively skewed distributions"
   ]
  },
  {
   "cell_type": "markdown",
   "metadata": {
    "id": "0_3rhUhar7Gw"
   },
   "source": [
    "# Task 5 (2 point)"
   ]
  },
  {
   "cell_type": "markdown",
   "metadata": {
    "id": "Zmfma0pcr83o"
   },
   "source": [
    "Now, compute measures of central tendencies for legendary and not legendary separately. Is there any difference?"
   ]
  },
  {
   "cell_type": "code",
   "execution_count": 164,
   "metadata": {
    "id": "bDE27UK7sJ3D"
   },
   "outputs": [
    {
     "data": {
      "text/html": [
       "<div>\n",
       "<style scoped>\n",
       "    .dataframe tbody tr th:only-of-type {\n",
       "        vertical-align: middle;\n",
       "    }\n",
       "\n",
       "    .dataframe tbody tr th {\n",
       "        vertical-align: top;\n",
       "    }\n",
       "\n",
       "    .dataframe thead tr th {\n",
       "        text-align: left;\n",
       "    }\n",
       "\n",
       "    .dataframe thead tr:last-of-type th {\n",
       "        text-align: right;\n",
       "    }\n",
       "</style>\n",
       "<table border=\"1\" class=\"dataframe\">\n",
       "  <thead>\n",
       "    <tr>\n",
       "      <th></th>\n",
       "      <th colspan=\"2\" halign=\"left\">Total</th>\n",
       "      <th colspan=\"2\" halign=\"left\">HP</th>\n",
       "      <th colspan=\"2\" halign=\"left\">Attack</th>\n",
       "      <th colspan=\"2\" halign=\"left\">Defense</th>\n",
       "      <th colspan=\"2\" halign=\"left\">Sp. Atk</th>\n",
       "      <th colspan=\"2\" halign=\"left\">Sp. Def</th>\n",
       "      <th colspan=\"2\" halign=\"left\">Speed</th>\n",
       "    </tr>\n",
       "    <tr>\n",
       "      <th></th>\n",
       "      <th>mean</th>\n",
       "      <th>median</th>\n",
       "      <th>mean</th>\n",
       "      <th>median</th>\n",
       "      <th>mean</th>\n",
       "      <th>median</th>\n",
       "      <th>mean</th>\n",
       "      <th>median</th>\n",
       "      <th>mean</th>\n",
       "      <th>median</th>\n",
       "      <th>mean</th>\n",
       "      <th>median</th>\n",
       "      <th>mean</th>\n",
       "      <th>median</th>\n",
       "    </tr>\n",
       "    <tr>\n",
       "      <th>Legendary</th>\n",
       "      <th></th>\n",
       "      <th></th>\n",
       "      <th></th>\n",
       "      <th></th>\n",
       "      <th></th>\n",
       "      <th></th>\n",
       "      <th></th>\n",
       "      <th></th>\n",
       "      <th></th>\n",
       "      <th></th>\n",
       "      <th></th>\n",
       "      <th></th>\n",
       "      <th></th>\n",
       "      <th></th>\n",
       "    </tr>\n",
       "  </thead>\n",
       "  <tbody>\n",
       "    <tr>\n",
       "      <th>False</th>\n",
       "      <td>417.213605</td>\n",
       "      <td>425.0</td>\n",
       "      <td>67.182313</td>\n",
       "      <td>65.0</td>\n",
       "      <td>75.669388</td>\n",
       "      <td>72.0</td>\n",
       "      <td>71.559184</td>\n",
       "      <td>66.0</td>\n",
       "      <td>68.454422</td>\n",
       "      <td>65.0</td>\n",
       "      <td>68.892517</td>\n",
       "      <td>65.0</td>\n",
       "      <td>65.455782</td>\n",
       "      <td>64.0</td>\n",
       "    </tr>\n",
       "    <tr>\n",
       "      <th>True</th>\n",
       "      <td>637.384615</td>\n",
       "      <td>600.0</td>\n",
       "      <td>92.738462</td>\n",
       "      <td>91.0</td>\n",
       "      <td>116.676923</td>\n",
       "      <td>110.0</td>\n",
       "      <td>99.661538</td>\n",
       "      <td>100.0</td>\n",
       "      <td>122.184615</td>\n",
       "      <td>120.0</td>\n",
       "      <td>105.938462</td>\n",
       "      <td>100.0</td>\n",
       "      <td>100.184615</td>\n",
       "      <td>100.0</td>\n",
       "    </tr>\n",
       "  </tbody>\n",
       "</table>\n",
       "</div>"
      ],
      "text/plain": [
       "                Total                HP             Attack           Defense  \\\n",
       "                 mean median       mean median        mean median       mean   \n",
       "Legendary                                                                      \n",
       "False      417.213605  425.0  67.182313   65.0   75.669388   72.0  71.559184   \n",
       "True       637.384615  600.0  92.738462   91.0  116.676923  110.0  99.661538   \n",
       "\n",
       "                     Sp. Atk            Sp. Def              Speed         \n",
       "          median        mean median        mean median        mean median  \n",
       "Legendary                                                                  \n",
       "False       66.0   68.454422   65.0   68.892517   65.0   65.455782   64.0  \n",
       "True       100.0  122.184615  120.0  105.938462  100.0  100.184615  100.0  "
      ]
     },
     "execution_count": 164,
     "metadata": {},
     "output_type": "execute_result"
    }
   ],
   "source": [
    "my_data.groupby('Legendary').agg({\n",
    "    'Total': ['mean', 'median'],\n",
    "    'HP': ['mean', 'median'],\n",
    "    'Attack': ['mean', 'median'],\n",
    "    'Defense': ['mean', 'median'],\n",
    "    'Sp. Atk': ['mean', 'median'],\n",
    "    'Sp. Def': ['mean', 'median'],\n",
    "    'Speed': ['mean', 'median']\n",
    "})"
   ]
  },
  {
   "cell_type": "markdown",
   "metadata": {
    "id": "TYSPubUxsfw5"
   },
   "source": [
    "**Answer** \\#I computed the differences between Legendary and Non-Legendary pokemons in case of Mean and Median tendencies.  We see that Legendary pokemons are generally stronger than non-legendary ones: if we consider 'Total' variable, mean value suggests that legendary pokemons are about 220 points stronger on average, median -- that a median legendary pokemon is 175 points stronger than non-legendary one."
   ]
  },
  {
   "cell_type": "markdown",
   "metadata": {
    "id": "te5n7n1FssWT"
   },
   "source": [
    "Draw the hisograms on one plot.\n",
    "\n",
    "Hint: use `hue` in `sns.histplot`"
   ]
  },
  {
   "cell_type": "code",
   "execution_count": 165,
   "metadata": {
    "id": "OYiAwgbDsvOa"
   },
   "outputs": [
    {
     "data": {
      "text/plain": [
       "<Axes: xlabel='Total', ylabel='Count'>"
      ]
     },
     "execution_count": 165,
     "metadata": {},
     "output_type": "execute_result"
    },
    {
     "data": {
      "image/png": "[encoded data removed]",
      "text/plain": [
       "<Figure size 640x480 with 1 Axes>"
      ]
     },
     "metadata": {},
     "output_type": "display_data"
    }
   ],
   "source": [
    "sns.histplot(data=my_data, x='Total', hue='Legendary', bins=20, alpha=0.7)"
   ]
  },
  {
   "cell_type": "markdown",
   "metadata": {
    "id": "OmIStG4Qtus7"
   },
   "source": [
    "# Task 6 (2 point)"
   ]
  },
  {
   "cell_type": "markdown",
   "metadata": {
    "id": "yDPxukLAtOzt"
   },
   "source": [
    "There is a problem that bars for legendary pokemons are significantly smaller than the bars for non-legendary. Explain, why is it happening"
   ]
  },
  {
   "cell_type": "code",
   "execution_count": 168,
   "metadata": {
    "id": "XERF7aoxtgZp"
   },
   "outputs": [],
   "source": [
    "legendary= my_data[my_data['Legendary'] == True].shape[0]\n",
    "non_legendary= my_data[my_data['Legendary'] == False].shape[0]\n",
    "total= my_data.shape[0]"
   ]
  },
  {
   "cell_type": "code",
   "execution_count": 169,
   "metadata": {},
   "outputs": [
    {
     "name": "stdout",
     "output_type": "stream",
     "text": [
      "8.125\n"
     ]
    }
   ],
   "source": [
    "legendary_perc= (legendary / total) * 100\n",
    "non_legendary_perc= (non_legendary / total) * 100\n",
    "\n",
    "print(legendary_perc)"
   ]
  },
  {
   "cell_type": "code",
   "execution_count": 170,
   "metadata": {},
   "outputs": [
    {
     "name": "stdout",
     "output_type": "stream",
     "text": [
      "91.875\n"
     ]
    }
   ],
   "source": [
    "print(non_legendary_perc)"
   ]
  },
  {
   "cell_type": "markdown",
   "metadata": {
    "id": "GCm60C4vtbj1"
   },
   "source": [
    "**Answer** \\#We see that the difference is very high -- 8% of legendary and 92% of non-legendary pokemons. There is  a substantial imbalance in the dataset, which is now also represented in percentage. "
   ]
  },
  {
   "cell_type": "markdown",
   "metadata": {
    "id": "H3kVPnwouDco"
   },
   "source": [
    "Fix the histogram (make the bars comparable hights), so it wil be more convenient to compare the distributions.\n",
    "\n",
    "Hint: consult the [documentation for the histplot](https://seaborn.pydata.org/generated/seaborn.histplot.html) and find, which optional arguments may help."
   ]
  },
  {
   "cell_type": "code",
   "execution_count": 173,
   "metadata": {},
   "outputs": [
    {
     "data": {
      "text/plain": [
       "<Axes: xlabel='Total', ylabel='Percent'>"
      ]
     },
     "execution_count": 173,
     "metadata": {},
     "output_type": "execute_result"
    },
    {
     "data": {
      "image/png": "[encoded data removed]",
      "text/plain": [
       "<Figure size 640x480 with 1 Axes>"
      ]
     },
     "metadata": {},
     "output_type": "display_data"
    }
   ],
   "source": [
    "sns.histplot(data= my_data, x= 'Total', hue ='Legendary', stat ='percent', common_norm =False)"
   ]
  },
  {
   "cell_type": "markdown",
   "metadata": {
    "id": "8ToKOf9cu7Uh"
   },
   "source": [
    "Now, make conclusions about the distributions"
   ]
  },
  {
   "cell_type": "markdown",
   "metadata": {
    "id": "Z5jWEuK6vAEU"
   },
   "source": [
    "**Answer** \\#I decided to use Percentage instead of Count. Now we can see that non-legendary pokemons are primarily distributed between 180-650 total stats range, while legendary pokemons are primarily distributed between 550-780 total stats. Over 55% of legendary pokemons have Total stats concentrated in the 580-620 range, while approx. "
   ]
  }
 ],
 "metadata": {
  "colab": {
   "provenance": [],
   "toc_visible": true
  },
  "kernelspec": {
   "display_name": "Python 3 (ipykernel)",
   "language": "python",
   "name": "python3"
  },
  "language_info": {
   "codemirror_mode": {
    "name": "ipython",
    "version": 3
   },
   "file_extension": ".py",
   "mimetype": "text/x-python",
   "name": "python",
   "nbconvert_exporter": "python",
   "pygments_lexer": "ipython3",
   "version": "3.11.11"
  }
 },
 "nbformat": 4,
 "nbformat_minor": 4
}
