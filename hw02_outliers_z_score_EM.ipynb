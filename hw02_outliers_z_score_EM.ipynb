{
 "cells": [
  {
   "cell_type": "markdown",
   "metadata": {
    "id": "BRE25qQhWshc"
   },
   "source": [
    "About the homework: In some tasks, in addition to writing code, answers to questions and conclusions are required (there are special Markdown cells marked with **Answer**).\n",
    "\n",
    "The ability to analyze the results of experiments is an important skill. Therefore, answers carry more weight than the code: the code accounts for 30% of the task grade, while answers to questions account for 70%."
   ]
  },
  {
   "cell_type": "code",
   "execution_count": 5,
   "metadata": {
    "id": "zKPPJJrBSod6",
    "tags": []
   },
   "outputs": [],
   "source": [
    "import matplotlib.pyplot as plt\n",
    "import numpy as np\n",
    "import pandas as pd\n",
    "import seaborn as sns"
   ]
  },
  {
   "cell_type": "markdown",
   "metadata": {
    "id": "1PDwH6_BSkxp"
   },
   "source": [
    "Download the [UCI Heart Disease Data](https://www.kaggle.com/datasets/redwankarimsony/heart-disease-data/data)"
   ]
  },
  {
   "cell_type": "code",
   "execution_count": 6,
   "metadata": {
    "id": "wUvCxSK6RkKR"
   },
   "outputs": [
    {
     "data": {
      "text/html": [
       "<div>\n",
       "<style scoped>\n",
       "    .dataframe tbody tr th:only-of-type {\n",
       "        vertical-align: middle;\n",
       "    }\n",
       "\n",
       "    .dataframe tbody tr th {\n",
       "        vertical-align: top;\n",
       "    }\n",
       "\n",
       "    .dataframe thead th {\n",
       "        text-align: right;\n",
       "    }\n",
       "</style>\n",
       "<table border=\"1\" class=\"dataframe\">\n",
       "  <thead>\n",
       "    <tr style=\"text-align: right;\">\n",
       "      <th></th>\n",
       "      <th>id</th>\n",
       "      <th>age</th>\n",
       "      <th>sex</th>\n",
       "      <th>dataset</th>\n",
       "      <th>cp</th>\n",
       "      <th>trestbps</th>\n",
       "      <th>chol</th>\n",
       "      <th>fbs</th>\n",
       "      <th>restecg</th>\n",
       "      <th>thalch</th>\n",
       "      <th>exang</th>\n",
       "      <th>oldpeak</th>\n",
       "      <th>slope</th>\n",
       "      <th>ca</th>\n",
       "      <th>thal</th>\n",
       "      <th>num</th>\n",
       "    </tr>\n",
       "  </thead>\n",
       "  <tbody>\n",
       "    <tr>\n",
       "      <th>115</th>\n",
       "      <td>116</td>\n",
       "      <td>41</td>\n",
       "      <td>Male</td>\n",
       "      <td>Cleveland</td>\n",
       "      <td>atypical angina</td>\n",
       "      <td>135.0</td>\n",
       "      <td>203.0</td>\n",
       "      <td>False</td>\n",
       "      <td>normal</td>\n",
       "      <td>132.0</td>\n",
       "      <td>False</td>\n",
       "      <td>0.0</td>\n",
       "      <td>flat</td>\n",
       "      <td>0.0</td>\n",
       "      <td>fixed defect</td>\n",
       "      <td>0</td>\n",
       "    </tr>\n",
       "    <tr>\n",
       "      <th>791</th>\n",
       "      <td>792</td>\n",
       "      <td>57</td>\n",
       "      <td>Male</td>\n",
       "      <td>VA Long Beach</td>\n",
       "      <td>asymptomatic</td>\n",
       "      <td>140.0</td>\n",
       "      <td>214.0</td>\n",
       "      <td>False</td>\n",
       "      <td>st-t abnormality</td>\n",
       "      <td>144.0</td>\n",
       "      <td>True</td>\n",
       "      <td>2.0</td>\n",
       "      <td>flat</td>\n",
       "      <td>NaN</td>\n",
       "      <td>fixed defect</td>\n",
       "      <td>2</td>\n",
       "    </tr>\n",
       "    <tr>\n",
       "      <th>91</th>\n",
       "      <td>92</td>\n",
       "      <td>62</td>\n",
       "      <td>Female</td>\n",
       "      <td>Cleveland</td>\n",
       "      <td>asymptomatic</td>\n",
       "      <td>160.0</td>\n",
       "      <td>164.0</td>\n",
       "      <td>False</td>\n",
       "      <td>lv hypertrophy</td>\n",
       "      <td>145.0</td>\n",
       "      <td>False</td>\n",
       "      <td>6.2</td>\n",
       "      <td>downsloping</td>\n",
       "      <td>3.0</td>\n",
       "      <td>reversable defect</td>\n",
       "      <td>3</td>\n",
       "    </tr>\n",
       "    <tr>\n",
       "      <th>41</th>\n",
       "      <td>42</td>\n",
       "      <td>40</td>\n",
       "      <td>Male</td>\n",
       "      <td>Cleveland</td>\n",
       "      <td>typical angina</td>\n",
       "      <td>140.0</td>\n",
       "      <td>199.0</td>\n",
       "      <td>False</td>\n",
       "      <td>normal</td>\n",
       "      <td>178.0</td>\n",
       "      <td>True</td>\n",
       "      <td>1.4</td>\n",
       "      <td>upsloping</td>\n",
       "      <td>0.0</td>\n",
       "      <td>reversable defect</td>\n",
       "      <td>0</td>\n",
       "    </tr>\n",
       "  </tbody>\n",
       "</table>\n",
       "</div>"
      ],
      "text/plain": [
       "      id  age     sex        dataset               cp  trestbps   chol    fbs  \\\n",
       "115  116   41    Male      Cleveland  atypical angina     135.0  203.0  False   \n",
       "791  792   57    Male  VA Long Beach     asymptomatic     140.0  214.0  False   \n",
       "91    92   62  Female      Cleveland     asymptomatic     160.0  164.0  False   \n",
       "41    42   40    Male      Cleveland   typical angina     140.0  199.0  False   \n",
       "\n",
       "              restecg  thalch  exang  oldpeak        slope   ca  \\\n",
       "115            normal   132.0  False      0.0         flat  0.0   \n",
       "791  st-t abnormality   144.0   True      2.0         flat  NaN   \n",
       "91     lv hypertrophy   145.0  False      6.2  downsloping  3.0   \n",
       "41             normal   178.0   True      1.4    upsloping  0.0   \n",
       "\n",
       "                  thal  num  \n",
       "115       fixed defect    0  \n",
       "791       fixed defect    2  \n",
       "91   reversable defect    3  \n",
       "41   reversable defect    0  "
      ]
     },
     "execution_count": 6,
     "metadata": {},
     "output_type": "execute_result"
    }
   ],
   "source": [
    "df = pd.read_csv('heart_disease_uci.csv')\n",
    "df.sample(4)"
   ]
  },
  {
   "cell_type": "markdown",
   "metadata": {
    "id": "A65LaFazTF06"
   },
   "source": [
    "# Task 1 (2 points)"
   ]
  },
  {
   "cell_type": "markdown",
   "metadata": {
    "id": "2V7JvWWBUaA_"
   },
   "source": [
    "Compute the mean, quartiles(Q1, Q2, Q3) and std for every numerical feature (also include column `'id'`)."
   ]
  },
  {
   "cell_type": "code",
   "execution_count": 12,
   "metadata": {
    "id": "rIKd5saDUNKA"
   },
   "outputs": [
    {
     "data": {
      "text/plain": [
       "230.75"
      ]
     },
     "execution_count": 12,
     "metadata": {},
     "output_type": "execute_result"
    }
   ],
   "source": [
    "df['id'].quantile(0.25)"
   ]
  },
  {
   "cell_type": "code",
   "execution_count": 13,
   "metadata": {},
   "outputs": [
    {
     "name": "stdout",
     "output_type": "stream",
     "text": [
      "0.25    230.75\n",
      "0.50    460.50\n",
      "0.75    690.25\n",
      "Name: id, dtype: float64\n"
     ]
    }
   ],
   "source": [
    "id_quantiles = df['id'].quantile([0.25, 0.5, 0.75])\n",
    "print(id_quantiles)"
   ]
  },
  {
   "cell_type": "code",
   "execution_count": 15,
   "metadata": {},
   "outputs": [
    {
     "name": "stdout",
     "output_type": "stream",
     "text": [
      "0.25    47.0\n",
      "0.50    54.0\n",
      "0.75    60.0\n",
      "Name: age, dtype: float64\n"
     ]
    }
   ],
   "source": [
    "age_quantiles = df['age'].quantile([0.25, 0.5, 0.75])\n",
    "print(age_quantiles)"
   ]
  },
  {
   "cell_type": "code",
   "execution_count": 14,
   "metadata": {},
   "outputs": [
    {
     "name": "stdout",
     "output_type": "stream",
     "text": [
      "0.25    120.0\n",
      "0.50    130.0\n",
      "0.75    140.0\n",
      "Name: trestbps, dtype: float64\n"
     ]
    }
   ],
   "source": [
    "trestbps_quantiles = df['trestbps'].quantile([0.25, 0.5, 0.75])\n",
    "print(trestbps_quantiles)"
   ]
  },
  {
   "cell_type": "code",
   "execution_count": 16,
   "metadata": {},
   "outputs": [
    {
     "name": "stdout",
     "output_type": "stream",
     "text": [
      "0.25    175.0\n",
      "0.50    223.0\n",
      "0.75    268.0\n",
      "Name: chol, dtype: float64\n"
     ]
    }
   ],
   "source": [
    "chol_quantiles = df['chol'].quantile([0.25, 0.5, 0.75])\n",
    "print(chol_quantiles)"
   ]
  },
  {
   "cell_type": "code",
   "execution_count": 18,
   "metadata": {},
   "outputs": [
    {
     "name": "stdout",
     "output_type": "stream",
     "text": [
      "0.25    120.0\n",
      "0.50    140.0\n",
      "0.75    157.0\n",
      "Name: thalch, dtype: float64\n"
     ]
    }
   ],
   "source": [
    "thalch_quantiles = df['thalch'].quantile([0.25, 0.5, 0.75])\n",
    "print(thalch_quantiles)"
   ]
  },
  {
   "cell_type": "code",
   "execution_count": 19,
   "metadata": {},
   "outputs": [
    {
     "name": "stdout",
     "output_type": "stream",
     "text": [
      "0.25    0.0\n",
      "0.50    0.5\n",
      "0.75    1.5\n",
      "Name: oldpeak, dtype: float64\n"
     ]
    }
   ],
   "source": [
    "oldpeak_quantiles = df['oldpeak'].quantile([0.25, 0.5, 0.75])\n",
    "print(oldpeak_quantiles)"
   ]
  },
  {
   "cell_type": "code",
   "execution_count": 20,
   "metadata": {},
   "outputs": [
    {
     "name": "stdout",
     "output_type": "stream",
     "text": [
      "0.25    0.0\n",
      "0.50    0.0\n",
      "0.75    1.0\n",
      "Name: ca, dtype: float64\n"
     ]
    }
   ],
   "source": [
    "ca_quantiles = df['ca'].quantile([0.25, 0.5, 0.75])\n",
    "print(ca_quantiles)"
   ]
  },
  {
   "cell_type": "code",
   "execution_count": 21,
   "metadata": {},
   "outputs": [
    {
     "name": "stdout",
     "output_type": "stream",
     "text": [
      "0.25    0.0\n",
      "0.50    1.0\n",
      "0.75    2.0\n",
      "Name: num, dtype: float64\n"
     ]
    }
   ],
   "source": [
    "num_quantiles = df['num'].quantile([0.25, 0.5, 0.75])\n",
    "print(num_quantiles)"
   ]
  },
  {
   "cell_type": "markdown",
   "metadata": {
    "id": "Td3yntByWHmv"
   },
   "source": [
    "Let's look into `'id'` feature. Does it seem to differ from other variables? If yes, how?"
   ]
  },
  {
   "cell_type": "markdown",
   "metadata": {
    "id": "gHp2IAkjWwsZ"
   },
   "source": [
    "**Answer** \\#it seems like ID is a sequential variable compared to other, and it means that it is evenly distributed across its range"
   ]
  },
  {
   "cell_type": "markdown",
   "metadata": {
    "id": "cYj4XCy-clSU"
   },
   "source": [
    "Draw the distribution of the `'id'` variable. Describe it and explain, why does it look like this. What useful information about heart disease can be extracted from it?"
   ]
  },
  {
   "cell_type": "code",
   "execution_count": 23,
   "metadata": {
    "id": "2DpoI5S4cwNj"
   },
   "outputs": [
    {
     "data": {
      "text/plain": [
       "<Axes: xlabel='id', ylabel='Count'>"
      ]
     },
     "execution_count": 23,
     "metadata": {},
     "output_type": "execute_result"
    },
    {
     "data": {
      "image/png": "[encoded data removed]",
      "text/plain": [
       "<Figure size 640x480 with 1 Axes>"
      ]
     },
     "metadata": {},
     "output_type": "display_data"
    }
   ],
   "source": [
    "sns.histplot(data=df, x='id', kde=True, color='blue')"
   ]
  },
  {
   "cell_type": "markdown",
   "metadata": {
    "id": "RNJuFy9XcibU"
   },
   "source": [
    "**Answer** \\#We see a virtually uniform distribution, with almost equal frequency counts across all bins. Actually, no useful information can be extracted from \"id\" variable, because it is an administrative identifier with no clinical or biological significance."
   ]
  },
  {
   "cell_type": "markdown",
   "metadata": {
    "id": "JhwgOXpIggxM"
   },
   "source": [
    "# Task 2 (2 points)"
   ]
  },
  {
   "cell_type": "markdown",
   "metadata": {
    "id": "hRBWdzYugzAZ"
   },
   "source": [
    "Let's search for outliers in numerical variables (do not include `'id'`).\n",
    "\n",
    "First of all, draw boxplots for every one of them on one figure.\n",
    "\n",
    "Hint: use `plt.subplots`"
   ]
  },
  {
   "cell_type": "markdown",
   "metadata": {
    "id": "IgCdQznfh9v4"
   },
   "source": [
    "Describe the plots:\n",
    "\n",
    "\n",
    "\n",
    "*   Which features do not have any outliers?\n",
    "*   Which features seem to have the maximum number of outliers?\n",
    "*   For which features it may be hard to count the number of outliers? Why?\n",
    "\n",
    "\n",
    "\n"
   ]
  },
  {
   "cell_type": "code",
   "execution_count": 44,
   "metadata": {
    "id": "bU28SZllhCMX"
   },
   "outputs": [
    {
     "data": {
      "image/png": "[encoded data removed]",
      "text/plain": [
       "<Figure size 1200x1500 with 8 Axes>"
      ]
     },
     "metadata": {},
     "output_type": "display_data"
    }
   ],
   "source": [
    "numerical_vars = ['age', 'trestbps', 'chol', 'thalch', 'oldpeak', 'ca', 'num']\n",
    "fig, axes = plt.subplots(nrows=4, ncols=2, figsize=(12, 15))\n",
    "axes = axes.flatten()\n",
    "for i, var in enumerate(numerical_vars):\n",
    "    sns.boxplot(x=df[var], ax=axes[i])\n",
    "    axes[i].set_title(var)\n",
    "axes[i].grid(axis='y', linestyle='--', alpha=0.7)"
   ]
  },
  {
   "cell_type": "markdown",
   "metadata": {
    "id": "eleRkL_zifuB"
   },
   "source": [
    "**Answer** \\#1) Age and Num don't have outliers. \n",
    "2) Chol, Trestbps, Oldpeak -- these variables have the highest number of outliers. \n",
    "3) For CA and Thalch it is hard to count the number of outliers since some points may be overlapping, the distribution is skewed etc. "
   ]
  },
  {
   "cell_type": "markdown",
   "metadata": {
    "id": "1CfgFBtwjFuk"
   },
   "source": [
    "Use the $1.5IQR$ approach and count the number of outliers for each column."
   ]
  },
  {
   "cell_type": "code",
   "execution_count": 63,
   "metadata": {},
   "outputs": [],
   "source": [
    "def count_outliers_iqr(df):\n",
    "    outlier_counts = {}\n",
    "    \n",
    "    for column in df.select_dtypes(include=np.number).columns:\n",
    "        Q1 = df[column].quantile(0.25)\n",
    "        Q3 = df[column].quantile(0.75)\n",
    "        IQR = Q3 - Q1\n",
    "        \n",
    "        lower_bound = Q1 - 1.5 * IQR\n",
    "        upper_bound = Q3 + 1.5 * IQR\n",
    "        \n",
    "        outliers = df[(df[column] < lower_bound) | (df[column] > upper_bound)]\n",
    "        outlier_counts[column] = len(outliers)\n",
    "    \n",
    "    return outlier_counts"
   ]
  },
  {
   "cell_type": "code",
   "execution_count": 64,
   "metadata": {},
   "outputs": [
    {
     "name": "stdout",
     "output_type": "stream",
     "text": [
      "Number of outliers per column:\n",
      "{'id': 0, 'age': 0, 'trestbps': 28, 'chol': 183, 'thalch': 2, 'oldpeak': 16, 'ca': 20, 'num': 0}\n"
     ]
    }
   ],
   "source": [
    "outlier_counts = count_outliers_iqr(df)\n",
    "print(\"Number of outliers per column:\")\n",
    "print(outlier_counts)"
   ]
  },
  {
   "cell_type": "markdown",
   "metadata": {
    "id": "TTWech8rj17V"
   },
   "source": [
    "For the feature with most outliers, draw the histogram and depict the bounds. Do the bounds seem too tight or too wide? Is deleting all outliers for this feature a good idea?"
   ]
  },
  {
   "cell_type": "code",
   "execution_count": 65,
   "metadata": {},
   "outputs": [
    {
     "name": "stdout",
     "output_type": "stream",
     "text": [
      "Feature with most outliers: chol\n"
     ]
    }
   ],
   "source": [
    "max_outliers_feature = max(outlier_counts, key=outlier_counts.get)\n",
    "print(\"Feature with most outliers:\", max_outliers_feature)"
   ]
  },
  {
   "cell_type": "code",
   "execution_count": 89,
   "metadata": {
    "id": "io6Nt_Vukyeu"
   },
   "outputs": [
    {
     "data": {
      "image/png": "[encoded data removed]",
      "text/plain": [
       "<Figure size 1000x600 with 1 Axes>"
      ]
     },
     "metadata": {},
     "output_type": "display_data"
    }
   ],
   "source": [
    "Q1 = df['chol'].quantile(0.25)\n",
    "Q3 = df['chol'].quantile(0.75)\n",
    "IQR = Q3 - Q1\n",
    "lower_bound = Q1 - 1.5 * IQR\n",
    "upper_bound = Q3 + 1.5 * IQR\n",
    "\n",
    "plt.figure(figsize=(10, 6))\n",
    "sns.histplot(df['chol'], bins=20, kde=True)\n",
    "plt.axvline(x=lower_bound, color='red', linestyle='--', label=f'Lower bound: {lower_bound:.2f}')\n",
    "plt.axvline(x=upper_bound, color='red', linestyle='--', label=f'Upper bound: {upper_bound:.2f}')\n",
    "plt.title('Distribution of Cholesterol with Outlier Bounds')\n",
    "plt.xlabel('Cholesterol')\n",
    "plt.ylabel('Count')\n",
    "plt.legend()\n",
    "plt.show()"
   ]
  },
  {
   "cell_type": "markdown",
   "metadata": {
    "id": "d_d9Xju8mSpN"
   },
   "source": [
    "**Answer** \\#The bounds appear too tight for cholesterol. However, deleting outliers is not a very good idea, since such decision would eliminate valuable data points that are likely important for predicting heart disease."
   ]
  },
  {
   "cell_type": "markdown",
   "metadata": {
    "id": "nYTFtI0OnHDi"
   },
   "source": [
    "# Task 3 (2 points)"
   ]
  },
  {
   "cell_type": "markdown",
   "metadata": {
    "id": "okN--1LvnKXv"
   },
   "source": [
    "Find the group (or groups) of people that will be deleted, if we delete all the outliers for the feature with the most outliers from the previous task."
   ]
  },
  {
   "cell_type": "code",
   "execution_count": 72,
   "metadata": {
    "id": "-owh6gXQlYvG"
   },
   "outputs": [
    {
     "data": {
      "text/html": [
       "<div>\n",
       "<style scoped>\n",
       "    .dataframe tbody tr th:only-of-type {\n",
       "        vertical-align: middle;\n",
       "    }\n",
       "\n",
       "    .dataframe tbody tr th {\n",
       "        vertical-align: top;\n",
       "    }\n",
       "\n",
       "    .dataframe thead th {\n",
       "        text-align: right;\n",
       "    }\n",
       "</style>\n",
       "<table border=\"1\" class=\"dataframe\">\n",
       "  <thead>\n",
       "    <tr style=\"text-align: right;\">\n",
       "      <th></th>\n",
       "      <th>id</th>\n",
       "      <th>age</th>\n",
       "      <th>sex</th>\n",
       "      <th>dataset</th>\n",
       "      <th>cp</th>\n",
       "      <th>trestbps</th>\n",
       "      <th>chol</th>\n",
       "      <th>fbs</th>\n",
       "      <th>restecg</th>\n",
       "      <th>thalch</th>\n",
       "      <th>exang</th>\n",
       "      <th>oldpeak</th>\n",
       "      <th>slope</th>\n",
       "      <th>ca</th>\n",
       "      <th>thal</th>\n",
       "      <th>num</th>\n",
       "    </tr>\n",
       "  </thead>\n",
       "  <tbody>\n",
       "    <tr>\n",
       "      <th>48</th>\n",
       "      <td>49</td>\n",
       "      <td>65</td>\n",
       "      <td>Female</td>\n",
       "      <td>Cleveland</td>\n",
       "      <td>non-anginal</td>\n",
       "      <td>140.0</td>\n",
       "      <td>417.0</td>\n",
       "      <td>True</td>\n",
       "      <td>lv hypertrophy</td>\n",
       "      <td>157.0</td>\n",
       "      <td>False</td>\n",
       "      <td>0.8</td>\n",
       "      <td>upsloping</td>\n",
       "      <td>1.0</td>\n",
       "      <td>normal</td>\n",
       "      <td>0</td>\n",
       "    </tr>\n",
       "    <tr>\n",
       "      <th>152</th>\n",
       "      <td>153</td>\n",
       "      <td>67</td>\n",
       "      <td>Female</td>\n",
       "      <td>Cleveland</td>\n",
       "      <td>non-anginal</td>\n",
       "      <td>115.0</td>\n",
       "      <td>564.0</td>\n",
       "      <td>False</td>\n",
       "      <td>lv hypertrophy</td>\n",
       "      <td>160.0</td>\n",
       "      <td>False</td>\n",
       "      <td>1.6</td>\n",
       "      <td>flat</td>\n",
       "      <td>0.0</td>\n",
       "      <td>reversable defect</td>\n",
       "      <td>0</td>\n",
       "    </tr>\n",
       "    <tr>\n",
       "      <th>181</th>\n",
       "      <td>182</td>\n",
       "      <td>56</td>\n",
       "      <td>Female</td>\n",
       "      <td>Cleveland</td>\n",
       "      <td>asymptomatic</td>\n",
       "      <td>134.0</td>\n",
       "      <td>409.0</td>\n",
       "      <td>False</td>\n",
       "      <td>lv hypertrophy</td>\n",
       "      <td>150.0</td>\n",
       "      <td>True</td>\n",
       "      <td>1.9</td>\n",
       "      <td>flat</td>\n",
       "      <td>2.0</td>\n",
       "      <td>reversable defect</td>\n",
       "      <td>2</td>\n",
       "    </tr>\n",
       "    <tr>\n",
       "      <th>373</th>\n",
       "      <td>374</td>\n",
       "      <td>44</td>\n",
       "      <td>Male</td>\n",
       "      <td>Hungary</td>\n",
       "      <td>asymptomatic</td>\n",
       "      <td>150.0</td>\n",
       "      <td>412.0</td>\n",
       "      <td>False</td>\n",
       "      <td>normal</td>\n",
       "      <td>170.0</td>\n",
       "      <td>False</td>\n",
       "      <td>0.0</td>\n",
       "      <td>NaN</td>\n",
       "      <td>NaN</td>\n",
       "      <td>NaN</td>\n",
       "      <td>0</td>\n",
       "    </tr>\n",
       "    <tr>\n",
       "      <th>434</th>\n",
       "      <td>435</td>\n",
       "      <td>53</td>\n",
       "      <td>Female</td>\n",
       "      <td>Hungary</td>\n",
       "      <td>atypical angina</td>\n",
       "      <td>113.0</td>\n",
       "      <td>468.0</td>\n",
       "      <td>NaN</td>\n",
       "      <td>normal</td>\n",
       "      <td>127.0</td>\n",
       "      <td>False</td>\n",
       "      <td>0.0</td>\n",
       "      <td>NaN</td>\n",
       "      <td>NaN</td>\n",
       "      <td>NaN</td>\n",
       "      <td>0</td>\n",
       "    </tr>\n",
       "    <tr>\n",
       "      <th>...</th>\n",
       "      <td>...</td>\n",
       "      <td>...</td>\n",
       "      <td>...</td>\n",
       "      <td>...</td>\n",
       "      <td>...</td>\n",
       "      <td>...</td>\n",
       "      <td>...</td>\n",
       "      <td>...</td>\n",
       "      <td>...</td>\n",
       "      <td>...</td>\n",
       "      <td>...</td>\n",
       "      <td>...</td>\n",
       "      <td>...</td>\n",
       "      <td>...</td>\n",
       "      <td>...</td>\n",
       "      <td>...</td>\n",
       "    </tr>\n",
       "    <tr>\n",
       "      <th>818</th>\n",
       "      <td>819</td>\n",
       "      <td>43</td>\n",
       "      <td>Male</td>\n",
       "      <td>VA Long Beach</td>\n",
       "      <td>asymptomatic</td>\n",
       "      <td>122.0</td>\n",
       "      <td>0.0</td>\n",
       "      <td>False</td>\n",
       "      <td>normal</td>\n",
       "      <td>120.0</td>\n",
       "      <td>False</td>\n",
       "      <td>0.5</td>\n",
       "      <td>upsloping</td>\n",
       "      <td>NaN</td>\n",
       "      <td>NaN</td>\n",
       "      <td>1</td>\n",
       "    </tr>\n",
       "    <tr>\n",
       "      <th>819</th>\n",
       "      <td>820</td>\n",
       "      <td>63</td>\n",
       "      <td>Male</td>\n",
       "      <td>VA Long Beach</td>\n",
       "      <td>non-anginal</td>\n",
       "      <td>130.0</td>\n",
       "      <td>0.0</td>\n",
       "      <td>True</td>\n",
       "      <td>st-t abnormality</td>\n",
       "      <td>160.0</td>\n",
       "      <td>False</td>\n",
       "      <td>3.0</td>\n",
       "      <td>flat</td>\n",
       "      <td>NaN</td>\n",
       "      <td>NaN</td>\n",
       "      <td>0</td>\n",
       "    </tr>\n",
       "    <tr>\n",
       "      <th>822</th>\n",
       "      <td>823</td>\n",
       "      <td>48</td>\n",
       "      <td>Male</td>\n",
       "      <td>VA Long Beach</td>\n",
       "      <td>non-anginal</td>\n",
       "      <td>102.0</td>\n",
       "      <td>0.0</td>\n",
       "      <td>NaN</td>\n",
       "      <td>st-t abnormality</td>\n",
       "      <td>110.0</td>\n",
       "      <td>True</td>\n",
       "      <td>1.0</td>\n",
       "      <td>downsloping</td>\n",
       "      <td>NaN</td>\n",
       "      <td>NaN</td>\n",
       "      <td>1</td>\n",
       "    </tr>\n",
       "    <tr>\n",
       "      <th>839</th>\n",
       "      <td>840</td>\n",
       "      <td>56</td>\n",
       "      <td>Male</td>\n",
       "      <td>VA Long Beach</td>\n",
       "      <td>asymptomatic</td>\n",
       "      <td>NaN</td>\n",
       "      <td>0.0</td>\n",
       "      <td>False</td>\n",
       "      <td>lv hypertrophy</td>\n",
       "      <td>NaN</td>\n",
       "      <td>NaN</td>\n",
       "      <td>NaN</td>\n",
       "      <td>NaN</td>\n",
       "      <td>NaN</td>\n",
       "      <td>NaN</td>\n",
       "      <td>1</td>\n",
       "    </tr>\n",
       "    <tr>\n",
       "      <th>840</th>\n",
       "      <td>841</td>\n",
       "      <td>62</td>\n",
       "      <td>Male</td>\n",
       "      <td>VA Long Beach</td>\n",
       "      <td>non-anginal</td>\n",
       "      <td>NaN</td>\n",
       "      <td>0.0</td>\n",
       "      <td>True</td>\n",
       "      <td>st-t abnormality</td>\n",
       "      <td>NaN</td>\n",
       "      <td>NaN</td>\n",
       "      <td>NaN</td>\n",
       "      <td>NaN</td>\n",
       "      <td>NaN</td>\n",
       "      <td>NaN</td>\n",
       "      <td>2</td>\n",
       "    </tr>\n",
       "  </tbody>\n",
       "</table>\n",
       "<p>183 rows × 16 columns</p>\n",
       "</div>"
      ],
      "text/plain": [
       "      id  age     sex        dataset               cp  trestbps   chol    fbs  \\\n",
       "48    49   65  Female      Cleveland      non-anginal     140.0  417.0   True   \n",
       "152  153   67  Female      Cleveland      non-anginal     115.0  564.0  False   \n",
       "181  182   56  Female      Cleveland     asymptomatic     134.0  409.0  False   \n",
       "373  374   44    Male        Hungary     asymptomatic     150.0  412.0  False   \n",
       "434  435   53  Female        Hungary  atypical angina     113.0  468.0    NaN   \n",
       "..   ...  ...     ...            ...              ...       ...    ...    ...   \n",
       "818  819   43    Male  VA Long Beach     asymptomatic     122.0    0.0  False   \n",
       "819  820   63    Male  VA Long Beach      non-anginal     130.0    0.0   True   \n",
       "822  823   48    Male  VA Long Beach      non-anginal     102.0    0.0    NaN   \n",
       "839  840   56    Male  VA Long Beach     asymptomatic       NaN    0.0  False   \n",
       "840  841   62    Male  VA Long Beach      non-anginal       NaN    0.0   True   \n",
       "\n",
       "              restecg  thalch  exang  oldpeak        slope   ca  \\\n",
       "48     lv hypertrophy   157.0  False      0.8    upsloping  1.0   \n",
       "152    lv hypertrophy   160.0  False      1.6         flat  0.0   \n",
       "181    lv hypertrophy   150.0   True      1.9         flat  2.0   \n",
       "373            normal   170.0  False      0.0          NaN  NaN   \n",
       "434            normal   127.0  False      0.0          NaN  NaN   \n",
       "..                ...     ...    ...      ...          ...  ...   \n",
       "818            normal   120.0  False      0.5    upsloping  NaN   \n",
       "819  st-t abnormality   160.0  False      3.0         flat  NaN   \n",
       "822  st-t abnormality   110.0   True      1.0  downsloping  NaN   \n",
       "839    lv hypertrophy     NaN    NaN      NaN          NaN  NaN   \n",
       "840  st-t abnormality     NaN    NaN      NaN          NaN  NaN   \n",
       "\n",
       "                  thal  num  \n",
       "48              normal    0  \n",
       "152  reversable defect    0  \n",
       "181  reversable defect    2  \n",
       "373                NaN    0  \n",
       "434                NaN    0  \n",
       "..                 ...  ...  \n",
       "818                NaN    1  \n",
       "819                NaN    0  \n",
       "822                NaN    1  \n",
       "839                NaN    1  \n",
       "840                NaN    2  \n",
       "\n",
       "[183 rows x 16 columns]"
      ]
     },
     "execution_count": 72,
     "metadata": {},
     "output_type": "execute_result"
    }
   ],
   "source": [
    "Q1 = df['chol'].quantile(0.25)\n",
    "Q3 = df['chol'].quantile(0.75)\n",
    "IQR = Q3-Q1\n",
    "LB = Q1 - 1.5 *IQR\n",
    "UB = Q3 + 1.5 *IQR\n",
    "df_outliers = df[(df['chol'] < LB) | (df['chol'] > UB)]\n",
    "\n",
    "df_outliers"
   ]
  },
  {
   "cell_type": "code",
   "execution_count": null,
   "metadata": {},
   "outputs": [],
   "source": []
  },
  {
   "cell_type": "markdown",
   "metadata": {
    "id": "s2lqH5-dobIK"
   },
   "source": [
    "**Answer** \\#Patients with extremely high cholesterol and unusually low cholesterol will be deleted. "
   ]
  },
  {
   "cell_type": "markdown",
   "metadata": {
    "id": "6w9GbUGuS_Pe"
   },
   "source": [
    "# Task 4 (2 points)"
   ]
  },
  {
   "cell_type": "markdown",
   "metadata": {
    "id": "598SNtbrTBvY"
   },
   "source": [
    "Check the proportion of missing values in the dataset. What approach can be used to tackle the problem for every variable?"
   ]
  },
  {
   "cell_type": "code",
   "execution_count": 74,
   "metadata": {
    "id": "VQUR3NXMS08z"
   },
   "outputs": [
    {
     "name": "stdout",
     "output_type": "stream",
     "text": [
      "          Missing Count  Missing %\n",
      "id                    0       0.00\n",
      "age                   0       0.00\n",
      "sex                   0       0.00\n",
      "dataset               0       0.00\n",
      "cp                    0       0.00\n",
      "trestbps             59       6.41\n",
      "chol                 30       3.26\n",
      "fbs                  90       9.78\n",
      "restecg               2       0.22\n",
      "thalch               55       5.98\n",
      "exang                55       5.98\n",
      "oldpeak              62       6.74\n",
      "slope               309      33.59\n",
      "ca                  611      66.41\n",
      "thal                486      52.83\n",
      "num                   0       0.00\n"
     ]
    }
   ],
   "source": [
    "missing_summary = pd.DataFrame({\n",
    "    'Missing Count': df.isna().sum(),\n",
    "    'Missing %': round(df.isna().mean() * 100, 2)\n",
    "})\n",
    "print(missing_summary)"
   ]
  },
  {
   "cell_type": "markdown",
   "metadata": {
    "id": "d2GWA5ijqHoo"
   },
   "source": [
    "**Answer** \\#I guess we can use median values to tackle the problem for every variable. "
   ]
  },
  {
   "cell_type": "markdown",
   "metadata": {
    "id": "GGKJYgToscZH"
   },
   "source": [
    "Fill the missing values, for categorical features create new category `'NOT GIVEN'`"
   ]
  },
  {
   "cell_type": "code",
   "execution_count": 86,
   "metadata": {
    "id": "VUBE4P-GsxQc"
   },
   "outputs": [
    {
     "name": "stdout",
     "output_type": "stream",
     "text": [
      "      id  age     sex        dataset               cp  trestbps   chol    fbs  \\\n",
      "0      1   63    Male      Cleveland   typical angina     145.0  233.0   True   \n",
      "1      2   67    Male      Cleveland     asymptomatic     160.0  286.0  False   \n",
      "2      3   67    Male      Cleveland     asymptomatic     120.0  229.0  False   \n",
      "3      4   37    Male      Cleveland      non-anginal     130.0  250.0  False   \n",
      "4      5   41  Female      Cleveland  atypical angina     130.0  204.0  False   \n",
      "..   ...  ...     ...            ...              ...       ...    ...    ...   \n",
      "915  916   54  Female  VA Long Beach     asymptomatic     127.0  333.0   True   \n",
      "916  917   62    Male  VA Long Beach   typical angina     130.0  139.0  False   \n",
      "917  918   55    Male  VA Long Beach     asymptomatic     122.0  223.0   True   \n",
      "918  919   58    Male  VA Long Beach     asymptomatic     130.0  385.0   True   \n",
      "919  920   62    Male  VA Long Beach  atypical angina     120.0  254.0  False   \n",
      "\n",
      "              restecg  thalch      exang  oldpeak        slope   ca  \\\n",
      "0      lv hypertrophy   150.0      False      2.3  downsloping  0.0   \n",
      "1      lv hypertrophy   108.0       True      1.5         flat  3.0   \n",
      "2      lv hypertrophy   129.0       True      2.6         flat  2.0   \n",
      "3              normal   187.0      False      3.5  downsloping  0.0   \n",
      "4      lv hypertrophy   172.0      False      1.4    upsloping  0.0   \n",
      "..                ...     ...        ...      ...          ...  ...   \n",
      "915  st-t abnormality   154.0      False      0.0    NOT GIVEN  0.0   \n",
      "916  st-t abnormality   140.0  NOT GIVEN      0.5    NOT GIVEN  0.0   \n",
      "917  st-t abnormality   100.0      False      0.0    NOT GIVEN  0.0   \n",
      "918    lv hypertrophy   140.0  NOT GIVEN      0.5    NOT GIVEN  0.0   \n",
      "919    lv hypertrophy    93.0       True      0.0    NOT GIVEN  0.0   \n",
      "\n",
      "                  thal  num  \n",
      "0         fixed defect    0  \n",
      "1               normal    2  \n",
      "2    reversable defect    1  \n",
      "3               normal    0  \n",
      "4               normal    0  \n",
      "..                 ...  ...  \n",
      "915          NOT GIVEN    1  \n",
      "916          NOT GIVEN    0  \n",
      "917       fixed defect    2  \n",
      "918          NOT GIVEN    0  \n",
      "919          NOT GIVEN    1  \n",
      "\n",
      "[920 rows x 16 columns]\n"
     ]
    }
   ],
   "source": [
    "fill_dict = {}\n",
    "\n",
    "cat_cols = df.select_dtypes(include=['object', 'category']).columns\n",
    "num_cols = df.select_dtypes(include=['float64', 'int64']).columns\n",
    "\n",
    "for col in cat_cols:\n",
    "    fill_dict[col] = 'NOT GIVEN'\n",
    "    \n",
    "for col in num_cols:\n",
    "    fill_dict[col] = df[col].median()\n",
    "\n",
    "\n",
    "df_filled = df.fillna(fill_dict)\n",
    "\n",
    "print(df_filled)"
   ]
  },
  {
   "cell_type": "markdown",
   "metadata": {
    "id": "U37-W3dHuCK1"
   },
   "source": [
    "# Task 5 (2 points)"
   ]
  },
  {
   "cell_type": "markdown",
   "metadata": {
    "id": "bKawTqEpuF4t"
   },
   "source": [
    "Convert every numerical variable into z-scores:"
   ]
  },
  {
   "cell_type": "code",
   "execution_count": 77,
   "metadata": {},
   "outputs": [
    {
     "name": "stdout",
     "output_type": "stream",
     "text": [
      "Collecting scipy\n",
      "  Downloading scipy-1.15.3-cp311-cp311-macosx_14_0_x86_64.whl.metadata (61 kB)\n",
      "Requirement already satisfied: numpy<2.5,>=1.23.5 in /Users/admin/opt/anaconda3/envs/hw/lib/python3.11/site-packages (from scipy) (1.26.4)\n",
      "Downloading scipy-1.15.3-cp311-cp311-macosx_14_0_x86_64.whl (25.2 MB)\n",
      "\u001b[2K   \u001b[90m━━━━━━━━━━━━━━━━━━━━━━━━━━━━━━━━━━━━━━━━\u001b[0m \u001b[32m25.2/25.2 MB\u001b[0m \u001b[31m4.2 MB/s\u001b[0m eta \u001b[36m0:00:00\u001b[0ma \u001b[36m0:00:01\u001b[0m\n",
      "Installing collected packages: scipy\n",
      "Successfully installed scipy-1.15.3\n",
      "Note: you may need to restart the kernel to use updated packages.\n"
     ]
    }
   ],
   "source": [
    "pip install scipy"
   ]
  },
  {
   "cell_type": "code",
   "execution_count": 103,
   "metadata": {
    "id": "Ajsvy4x4uBxl"
   },
   "outputs": [],
   "source": [
    "from scipy import stats\n",
    "from scipy.stats import zscore"
   ]
  },
  {
   "cell_type": "code",
   "execution_count": 109,
   "metadata": {},
   "outputs": [],
   "source": [
    "numerical_vars = ['chol', 'thalch', 'oldpeak', 'trestbps', 'age', 'ca', 'num']\n",
    "df_clean = df.dropna(subset=numerical_vars) \n",
    "df_z = df_clean.copy()\n",
    "df_z[numerical_vars] = df_z[numerical_vars].apply(zscore)"
   ]
  },
  {
   "cell_type": "code",
   "execution_count": 110,
   "metadata": {},
   "outputs": [
    {
     "data": {
      "text/plain": [
       "(chol        5.192723\n",
       " thalch      2.301130\n",
       " oldpeak     4.465997\n",
       " trestbps    3.870035\n",
       " age         2.493944\n",
       " ca          2.483193\n",
       " num         2.483163\n",
       " dtype: float64,\n",
       " chol       -3.888047\n",
       " thalch     -3.365048\n",
       " oldpeak    -1.600466\n",
       " trestbps   -2.134570\n",
       " age        -2.858135\n",
       " ca         -0.725856\n",
       " num        -0.774831\n",
       " dtype: float64)"
      ]
     },
     "execution_count": 110,
     "metadata": {},
     "output_type": "execute_result"
    }
   ],
   "source": [
    "z_values = df_z[numerical_vars]\n",
    "num_vars = z_values.max(), z_values.min()\n",
    "num_vars"
   ]
  },
  {
   "cell_type": "code",
   "execution_count": null,
   "metadata": {},
   "outputs": [],
   "source": []
  },
  {
   "cell_type": "markdown",
   "metadata": {
    "id": "ya_I0ojgvTCd"
   },
   "source": [
    "Find the most extreme value in the dataset: in what column is it in?"
   ]
  },
  {
   "cell_type": "code",
   "execution_count": 114,
   "metadata": {
    "id": "uyKQHXLPvF5N"
   },
   "outputs": [
    {
     "name": "stdout",
     "output_type": "stream",
     "text": [
      "Most extreme value is in column: chol\n",
      "Z-score value: 5.19272297941604\n"
     ]
    }
   ],
   "source": [
    "z_values = df_z[numerical_vars]\n",
    "abs_z_values = z_values.abs()\n",
    "max_z = abs_z_values.max().max()\n",
    "max_col = abs_z_values.max().idxmax()\n",
    "max_z_row = abs_z_values.max(axis=1).idxmax()\n",
    "\n",
    "print(f\"Most extreme value is in column: {max_col}\")\n",
    "print(f\"Z-score value: {max_z}\")"
   ]
  },
  {
   "cell_type": "markdown",
   "metadata": {
    "id": "9TQgGqZ_vvKF"
   },
   "source": [
    "**Answer** \\#The most extreme value is in the column \"chol\"."
   ]
  },
  {
   "cell_type": "markdown",
   "metadata": {
    "id": "kSyD8LKrvhJs"
   },
   "source": [
    "Draw the distributions on one plot. Adjust the visible area of the histogram in such way, that the bar for the most extreme value is visible. It is ok to cut  very high bars."
   ]
  },
  {
   "cell_type": "code",
   "execution_count": 116,
   "metadata": {
    "id": "4ohbDx4gvjW8"
   },
   "outputs": [
    {
     "data": {
      "text/plain": [
       "<matplotlib.legend.Legend at 0x17a53a4d0>"
      ]
     },
     "execution_count": 116,
     "metadata": {},
     "output_type": "execute_result"
    },
    {
     "data": {
      "image/png": "[encoded data removed]",
      "text/plain": [
       "<Figure size 640x480 with 1 Axes>"
      ]
     },
     "metadata": {},
     "output_type": "display_data"
    }
   ],
   "source": [
    "for col in numerical_vars:\n",
    "    sns.histplot(df_z[col], kde=True, stat='density', alpha=0.4, label=col)\n",
    "\n",
    "plt.axvline(x=df_z.loc[max_z_row, max_col], color='red', linestyle='--', \n",
    "           label=f'Most extreme: {max_col} ({df_z.loc[max_z_row, max_col]:.2f})')\n",
    "\n",
    "plt.title('Z-Score Distributions of Numerical Variables')\n",
    "plt.xlabel('Z-Score')\n",
    "plt.ylabel('Density')\n",
    "plt.legend()"
   ]
  }
 ],
 "metadata": {
  "colab": {
   "provenance": [],
   "toc_visible": true
  },
  "kernelspec": {
   "display_name": "Python 3 (ipykernel)",
   "language": "python",
   "name": "python3"
  },
  "language_info": {
   "codemirror_mode": {
    "name": "ipython",
    "version": 3
   },
   "file_extension": ".py",
   "mimetype": "text/x-python",
   "name": "python",
   "nbconvert_exporter": "python",
   "pygments_lexer": "ipython3",
   "version": "3.11.11"
  }
 },
 "nbformat": 4,
 "nbformat_minor": 4
}
